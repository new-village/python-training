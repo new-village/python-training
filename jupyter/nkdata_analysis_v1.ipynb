{
  "nbformat": 4,
  "nbformat_minor": 0,
  "metadata": {
    "colab": {
      "name": "nkdata_analysis.ipynb",
      "provenance": [],
      "collapsed_sections": [
        "1A5chpSV9qRW",
        "GdpMloYPi4h0",
        "QozoshoGjA_e",
        "SpD6s-VRjMHx",
        "cgQ8eufrxVdo",
        "jLY9Ze-MxlQ_",
        "0crRE-uQ3VSG"
      ]
    },
    "kernelspec": {
      "name": "python3",
      "display_name": "Python 3"
    },
    "language_info": {
      "name": "python"
    }
  },
  "cells": [
    {
      "cell_type": "markdown",
      "source": [
        "# 競馬予想モデル構築\n",
        "オッズ利用"
      ],
      "metadata": {
        "id": "0AoTv8t_0Sju"
      }
    },
    {
      "cell_type": "markdown",
      "source": [
        "## データロード"
      ],
      "metadata": {
        "id": "1A5chpSV9qRW"
      }
    },
    {
      "cell_type": "code",
      "execution_count": null,
      "metadata": {
        "colab": {
          "base_uri": "https://localhost:8080/"
        },
        "id": "d_PsbPAf6U-y",
        "outputId": "c3c3540e-15d4-4058-87d7-4e69b92aca3e"
      },
      "outputs": [
        {
          "output_type": "stream",
          "name": "stdout",
          "text": [
            "Drive already mounted at /content/drive; to attempt to forcibly remount, call drive.mount(\"/content/drive\", force_remount=True).\n"
          ]
        }
      ],
      "source": [
        "import sqlite3\n",
        "from google.colab import drive\n",
        "# Connect Google Drive\n",
        "drive.mount('/content/drive')\n",
        "# Load Database File\n",
        "conn = sqlite3.connect('/content/drive/My Drive/Colab Notebooks/keiba/horse_2021.db')"
      ]
    },
    {
      "cell_type": "code",
      "source": [
        "import pandas as pd\n",
        "\n",
        "sql = '''\n",
        "SELECT\n",
        "  t1.entry_id as entry_id,\n",
        "  t1.race_id as race_id,\n",
        "  t2.rank as rank,\n",
        "  t1.bracket as bracket,\n",
        "  t1.horse_number as horse_number,\n",
        "  t1.gender as gender,\n",
        "  t1.age as age,\n",
        "  t1.burden as burden,\n",
        "  t1.weight as weight,\n",
        "  t1.weight_diff as weight_diff,\n",
        "  t3.tan as tan,\n",
        "  t3.fuku_min as fuku_min,\n",
        "  t3.fuku_max as fuku_max\n",
        "FROM\n",
        "  entry t1\n",
        "  LEFT JOIN result t2 on (t1.entry_id = t2.result_id) \n",
        "  LEFT JOIN odds t3 on (t1.entry_id = t3.odds_id) \n",
        "WHERE\n",
        "  t1.race_id like \"2021%\"\n",
        "'''\n",
        "\n",
        "db = pd.read_sql(sql, conn, index_col=\"entry_id\")\n",
        "## 順位（Rank）が空白値をNaNに変換して削除した上で数値型に変更\n",
        "db[db[\"rank\"] == \"\"] = None\n",
        "db = db.dropna(subset=[\"rank\"])\n",
        "db = db.astype({'rank': int})\n",
        "db.info()"
      ],
      "metadata": {
        "colab": {
          "base_uri": "https://localhost:8080/"
        },
        "id": "lvU0XL98-mgD",
        "outputId": "56a55436-cdcf-43a3-9921-7654b302eb29"
      },
      "execution_count": null,
      "outputs": [
        {
          "output_type": "stream",
          "name": "stdout",
          "text": [
            "<class 'pandas.core.frame.DataFrame'>\n",
            "Index: 47476 entries, 20210601010101 to 20210906091216\n",
            "Data columns (total 12 columns):\n",
            " #   Column        Non-Null Count  Dtype  \n",
            "---  ------        --------------  -----  \n",
            " 0   race_id       47476 non-null  object \n",
            " 1   rank          47476 non-null  int64  \n",
            " 2   bracket       47476 non-null  object \n",
            " 3   horse_number  47476 non-null  object \n",
            " 4   gender        47476 non-null  object \n",
            " 5   age           47476 non-null  float64\n",
            " 6   burden        47476 non-null  float64\n",
            " 7   weight        47476 non-null  float64\n",
            " 8   weight_diff   47476 non-null  float64\n",
            " 9   tan           47476 non-null  float64\n",
            " 10  fuku_min      47476 non-null  float64\n",
            " 11  fuku_max      47476 non-null  float64\n",
            "dtypes: float64(7), int64(1), object(4)\n",
            "memory usage: 4.7+ MB\n"
          ]
        }
      ]
    },
    {
      "cell_type": "markdown",
      "source": [
        "## データの準備： 目的変数の生成"
      ],
      "metadata": {
        "id": "GdpMloYPi4h0"
      }
    },
    {
      "cell_type": "code",
      "source": [
        "## 目的変数の作成\n",
        "rk = db.copy()\n",
        "result = rk[\"rank\"].apply(lambda x: 0 if int(x)>=4 else 1)\n",
        "result.head()\n",
        "# result.value_counts(dropna=False)"
      ],
      "metadata": {
        "colab": {
          "base_uri": "https://localhost:8080/"
        },
        "id": "CEHmQK24GHyt",
        "outputId": "204bcb88-b007-4013-c7e4-2d88da75fc9f"
      },
      "execution_count": null,
      "outputs": [
        {
          "output_type": "execute_result",
          "data": {
            "text/plain": [
              "entry_id\n",
              "20210601010101    0\n",
              "20210601010102    0\n",
              "20210601010103    1\n",
              "20210601010104    0\n",
              "20210601010105    0\n",
              "Name: rank, dtype: int64"
            ]
          },
          "metadata": {},
          "execution_count": 28
        }
      ]
    },
    {
      "cell_type": "markdown",
      "source": [
        "## データの準備： ダミー変数の生成"
      ],
      "metadata": {
        "id": "QozoshoGjA_e"
      }
    },
    {
      "cell_type": "code",
      "source": [
        "## ダミー変数化\n",
        "gender = pd.get_dummies(db, columns=[\"gender\"])\n",
        "gender = gender[[\"gender_セ\", \"gender_牝\", \"gender_牡\"]]\n",
        "gender = gender.rename(columns={\"gender_セ\": \"gender_gelding\", \"gender_牝\": \"gender_female\", \"gender_牡\": \"gender_male\"})\n",
        "\n",
        "# df[\"gender\"].value_counts()\n",
        "# gender = df['gender'].map({'牡': 0, 'セ': 1, '牝': 2})\n",
        "gender.head()"
      ],
      "metadata": {
        "colab": {
          "base_uri": "https://localhost:8080/"
        },
        "id": "quuL-R4jCgJi",
        "outputId": "3add5e6e-bf40-4cb3-fae7-de6b8013e0e9"
      },
      "execution_count": null,
      "outputs": [
        {
          "output_type": "execute_result",
          "data": {
            "text/plain": [
              "                gender_gelding  gender_female  gender_male\n",
              "entry_id                                                  \n",
              "20210601010101               0              1            0\n",
              "20210601010102               0              0            1\n",
              "20210601010103               0              0            1\n",
              "20210601010104               0              0            1\n",
              "20210601010105               0              1            0"
            ],
            "text/html": [
              "\n",
              "  <div id=\"df-bf70131c-c79c-40ee-8fec-ae73b42166a4\">\n",
              "    <div class=\"colab-df-container\">\n",
              "      <div>\n",
              "<style scoped>\n",
              "    .dataframe tbody tr th:only-of-type {\n",
              "        vertical-align: middle;\n",
              "    }\n",
              "\n",
              "    .dataframe tbody tr th {\n",
              "        vertical-align: top;\n",
              "    }\n",
              "\n",
              "    .dataframe thead th {\n",
              "        text-align: right;\n",
              "    }\n",
              "</style>\n",
              "<table border=\"1\" class=\"dataframe\">\n",
              "  <thead>\n",
              "    <tr style=\"text-align: right;\">\n",
              "      <th></th>\n",
              "      <th>gender_gelding</th>\n",
              "      <th>gender_female</th>\n",
              "      <th>gender_male</th>\n",
              "    </tr>\n",
              "    <tr>\n",
              "      <th>entry_id</th>\n",
              "      <th></th>\n",
              "      <th></th>\n",
              "      <th></th>\n",
              "    </tr>\n",
              "  </thead>\n",
              "  <tbody>\n",
              "    <tr>\n",
              "      <th>20210601010101</th>\n",
              "      <td>0</td>\n",
              "      <td>1</td>\n",
              "      <td>0</td>\n",
              "    </tr>\n",
              "    <tr>\n",
              "      <th>20210601010102</th>\n",
              "      <td>0</td>\n",
              "      <td>0</td>\n",
              "      <td>1</td>\n",
              "    </tr>\n",
              "    <tr>\n",
              "      <th>20210601010103</th>\n",
              "      <td>0</td>\n",
              "      <td>0</td>\n",
              "      <td>1</td>\n",
              "    </tr>\n",
              "    <tr>\n",
              "      <th>20210601010104</th>\n",
              "      <td>0</td>\n",
              "      <td>0</td>\n",
              "      <td>1</td>\n",
              "    </tr>\n",
              "    <tr>\n",
              "      <th>20210601010105</th>\n",
              "      <td>0</td>\n",
              "      <td>1</td>\n",
              "      <td>0</td>\n",
              "    </tr>\n",
              "  </tbody>\n",
              "</table>\n",
              "</div>\n",
              "      <button class=\"colab-df-convert\" onclick=\"convertToInteractive('df-bf70131c-c79c-40ee-8fec-ae73b42166a4')\"\n",
              "              title=\"Convert this dataframe to an interactive table.\"\n",
              "              style=\"display:none;\">\n",
              "        \n",
              "  <svg xmlns=\"http://www.w3.org/2000/svg\" height=\"24px\"viewBox=\"0 0 24 24\"\n",
              "       width=\"24px\">\n",
              "    <path d=\"M0 0h24v24H0V0z\" fill=\"none\"/>\n",
              "    <path d=\"M18.56 5.44l.94 2.06.94-2.06 2.06-.94-2.06-.94-.94-2.06-.94 2.06-2.06.94zm-11 1L8.5 8.5l.94-2.06 2.06-.94-2.06-.94L8.5 2.5l-.94 2.06-2.06.94zm10 10l.94 2.06.94-2.06 2.06-.94-2.06-.94-.94-2.06-.94 2.06-2.06.94z\"/><path d=\"M17.41 7.96l-1.37-1.37c-.4-.4-.92-.59-1.43-.59-.52 0-1.04.2-1.43.59L10.3 9.45l-7.72 7.72c-.78.78-.78 2.05 0 2.83L4 21.41c.39.39.9.59 1.41.59.51 0 1.02-.2 1.41-.59l7.78-7.78 2.81-2.81c.8-.78.8-2.07 0-2.86zM5.41 20L4 18.59l7.72-7.72 1.47 1.35L5.41 20z\"/>\n",
              "  </svg>\n",
              "      </button>\n",
              "      \n",
              "  <style>\n",
              "    .colab-df-container {\n",
              "      display:flex;\n",
              "      flex-wrap:wrap;\n",
              "      gap: 12px;\n",
              "    }\n",
              "\n",
              "    .colab-df-convert {\n",
              "      background-color: #E8F0FE;\n",
              "      border: none;\n",
              "      border-radius: 50%;\n",
              "      cursor: pointer;\n",
              "      display: none;\n",
              "      fill: #1967D2;\n",
              "      height: 32px;\n",
              "      padding: 0 0 0 0;\n",
              "      width: 32px;\n",
              "    }\n",
              "\n",
              "    .colab-df-convert:hover {\n",
              "      background-color: #E2EBFA;\n",
              "      box-shadow: 0px 1px 2px rgba(60, 64, 67, 0.3), 0px 1px 3px 1px rgba(60, 64, 67, 0.15);\n",
              "      fill: #174EA6;\n",
              "    }\n",
              "\n",
              "    [theme=dark] .colab-df-convert {\n",
              "      background-color: #3B4455;\n",
              "      fill: #D2E3FC;\n",
              "    }\n",
              "\n",
              "    [theme=dark] .colab-df-convert:hover {\n",
              "      background-color: #434B5C;\n",
              "      box-shadow: 0px 1px 3px 1px rgba(0, 0, 0, 0.15);\n",
              "      filter: drop-shadow(0px 1px 2px rgba(0, 0, 0, 0.3));\n",
              "      fill: #FFFFFF;\n",
              "    }\n",
              "  </style>\n",
              "\n",
              "      <script>\n",
              "        const buttonEl =\n",
              "          document.querySelector('#df-bf70131c-c79c-40ee-8fec-ae73b42166a4 button.colab-df-convert');\n",
              "        buttonEl.style.display =\n",
              "          google.colab.kernel.accessAllowed ? 'block' : 'none';\n",
              "\n",
              "        async function convertToInteractive(key) {\n",
              "          const element = document.querySelector('#df-bf70131c-c79c-40ee-8fec-ae73b42166a4');\n",
              "          const dataTable =\n",
              "            await google.colab.kernel.invokeFunction('convertToInteractive',\n",
              "                                                     [key], {});\n",
              "          if (!dataTable) return;\n",
              "\n",
              "          const docLinkHtml = 'Like what you see? Visit the ' +\n",
              "            '<a target=\"_blank\" href=https://colab.research.google.com/notebooks/data_table.ipynb>data table notebook</a>'\n",
              "            + ' to learn more about interactive tables.';\n",
              "          element.innerHTML = '';\n",
              "          dataTable['output_type'] = 'display_data';\n",
              "          await google.colab.output.renderOutput(dataTable, element);\n",
              "          const docLink = document.createElement('div');\n",
              "          docLink.innerHTML = docLinkHtml;\n",
              "          element.appendChild(docLink);\n",
              "        }\n",
              "      </script>\n",
              "    </div>\n",
              "  </div>\n",
              "  "
            ]
          },
          "metadata": {},
          "execution_count": 29
        }
      ]
    },
    {
      "cell_type": "markdown",
      "source": [
        "## データの準備： 標準化"
      ],
      "metadata": {
        "id": "SpD6s-VRjMHx"
      }
    },
    {
      "cell_type": "code",
      "source": [
        "## 標準化変数の選択\n",
        "std = db[[\"race_id\", \"age\", \"burden\", \"weight\", \"tan\", \"fuku_min\", \"fuku_max\"]]\n",
        "## データの標準化\n",
        "standardization = lambda x: (x - x.mean()) / x.std()\n",
        "std = std.groupby(\"race_id\").transform(standardization)\n",
        "\n",
        "# 分散がゼロ（馬齢がレース内ですべて同じ）の場合はNaNになるため、ゼロ埋め処理\n",
        "std = std.fillna(0)\n",
        "std.head()\n",
        "\n",
        "# # データ確認用\n",
        "# std.describe().apply(lambda x: format(x, 'f'))"
      ],
      "metadata": {
        "colab": {
          "base_uri": "https://localhost:8080/"
        },
        "id": "ZzNIhLTHiFpr",
        "outputId": "62f7b270-af21-4019-8533-007ef9da6e50"
      },
      "execution_count": null,
      "outputs": [
        {
          "output_type": "execute_result",
          "data": {
            "text/plain": [
              "                age    burden    weight       tan  fuku_min  fuku_max\n",
              "entry_id                                                             \n",
              "20210601010101  0.0 -0.344729 -1.427638  0.085046 -0.028044 -0.025133\n",
              "20210601010102  0.0  0.268122  0.131326  0.127179  0.111209  0.113165\n",
              "20210601010103  0.0  0.268122  1.080260 -0.612488 -0.585058 -0.582580\n",
              "20210601010104  0.0 -0.957580 -1.359857  0.193500  0.008059  0.011037\n",
              "20210601010105  0.0 -0.344729 -0.139798 -0.677248 -0.657264 -0.663431"
            ],
            "text/html": [
              "\n",
              "  <div id=\"df-9d28c360-64e9-4950-bc7d-7e875a7e2ffc\">\n",
              "    <div class=\"colab-df-container\">\n",
              "      <div>\n",
              "<style scoped>\n",
              "    .dataframe tbody tr th:only-of-type {\n",
              "        vertical-align: middle;\n",
              "    }\n",
              "\n",
              "    .dataframe tbody tr th {\n",
              "        vertical-align: top;\n",
              "    }\n",
              "\n",
              "    .dataframe thead th {\n",
              "        text-align: right;\n",
              "    }\n",
              "</style>\n",
              "<table border=\"1\" class=\"dataframe\">\n",
              "  <thead>\n",
              "    <tr style=\"text-align: right;\">\n",
              "      <th></th>\n",
              "      <th>age</th>\n",
              "      <th>burden</th>\n",
              "      <th>weight</th>\n",
              "      <th>tan</th>\n",
              "      <th>fuku_min</th>\n",
              "      <th>fuku_max</th>\n",
              "    </tr>\n",
              "    <tr>\n",
              "      <th>entry_id</th>\n",
              "      <th></th>\n",
              "      <th></th>\n",
              "      <th></th>\n",
              "      <th></th>\n",
              "      <th></th>\n",
              "      <th></th>\n",
              "    </tr>\n",
              "  </thead>\n",
              "  <tbody>\n",
              "    <tr>\n",
              "      <th>20210601010101</th>\n",
              "      <td>0.0</td>\n",
              "      <td>-0.344729</td>\n",
              "      <td>-1.427638</td>\n",
              "      <td>0.085046</td>\n",
              "      <td>-0.028044</td>\n",
              "      <td>-0.025133</td>\n",
              "    </tr>\n",
              "    <tr>\n",
              "      <th>20210601010102</th>\n",
              "      <td>0.0</td>\n",
              "      <td>0.268122</td>\n",
              "      <td>0.131326</td>\n",
              "      <td>0.127179</td>\n",
              "      <td>0.111209</td>\n",
              "      <td>0.113165</td>\n",
              "    </tr>\n",
              "    <tr>\n",
              "      <th>20210601010103</th>\n",
              "      <td>0.0</td>\n",
              "      <td>0.268122</td>\n",
              "      <td>1.080260</td>\n",
              "      <td>-0.612488</td>\n",
              "      <td>-0.585058</td>\n",
              "      <td>-0.582580</td>\n",
              "    </tr>\n",
              "    <tr>\n",
              "      <th>20210601010104</th>\n",
              "      <td>0.0</td>\n",
              "      <td>-0.957580</td>\n",
              "      <td>-1.359857</td>\n",
              "      <td>0.193500</td>\n",
              "      <td>0.008059</td>\n",
              "      <td>0.011037</td>\n",
              "    </tr>\n",
              "    <tr>\n",
              "      <th>20210601010105</th>\n",
              "      <td>0.0</td>\n",
              "      <td>-0.344729</td>\n",
              "      <td>-0.139798</td>\n",
              "      <td>-0.677248</td>\n",
              "      <td>-0.657264</td>\n",
              "      <td>-0.663431</td>\n",
              "    </tr>\n",
              "  </tbody>\n",
              "</table>\n",
              "</div>\n",
              "      <button class=\"colab-df-convert\" onclick=\"convertToInteractive('df-9d28c360-64e9-4950-bc7d-7e875a7e2ffc')\"\n",
              "              title=\"Convert this dataframe to an interactive table.\"\n",
              "              style=\"display:none;\">\n",
              "        \n",
              "  <svg xmlns=\"http://www.w3.org/2000/svg\" height=\"24px\"viewBox=\"0 0 24 24\"\n",
              "       width=\"24px\">\n",
              "    <path d=\"M0 0h24v24H0V0z\" fill=\"none\"/>\n",
              "    <path d=\"M18.56 5.44l.94 2.06.94-2.06 2.06-.94-2.06-.94-.94-2.06-.94 2.06-2.06.94zm-11 1L8.5 8.5l.94-2.06 2.06-.94-2.06-.94L8.5 2.5l-.94 2.06-2.06.94zm10 10l.94 2.06.94-2.06 2.06-.94-2.06-.94-.94-2.06-.94 2.06-2.06.94z\"/><path d=\"M17.41 7.96l-1.37-1.37c-.4-.4-.92-.59-1.43-.59-.52 0-1.04.2-1.43.59L10.3 9.45l-7.72 7.72c-.78.78-.78 2.05 0 2.83L4 21.41c.39.39.9.59 1.41.59.51 0 1.02-.2 1.41-.59l7.78-7.78 2.81-2.81c.8-.78.8-2.07 0-2.86zM5.41 20L4 18.59l7.72-7.72 1.47 1.35L5.41 20z\"/>\n",
              "  </svg>\n",
              "      </button>\n",
              "      \n",
              "  <style>\n",
              "    .colab-df-container {\n",
              "      display:flex;\n",
              "      flex-wrap:wrap;\n",
              "      gap: 12px;\n",
              "    }\n",
              "\n",
              "    .colab-df-convert {\n",
              "      background-color: #E8F0FE;\n",
              "      border: none;\n",
              "      border-radius: 50%;\n",
              "      cursor: pointer;\n",
              "      display: none;\n",
              "      fill: #1967D2;\n",
              "      height: 32px;\n",
              "      padding: 0 0 0 0;\n",
              "      width: 32px;\n",
              "    }\n",
              "\n",
              "    .colab-df-convert:hover {\n",
              "      background-color: #E2EBFA;\n",
              "      box-shadow: 0px 1px 2px rgba(60, 64, 67, 0.3), 0px 1px 3px 1px rgba(60, 64, 67, 0.15);\n",
              "      fill: #174EA6;\n",
              "    }\n",
              "\n",
              "    [theme=dark] .colab-df-convert {\n",
              "      background-color: #3B4455;\n",
              "      fill: #D2E3FC;\n",
              "    }\n",
              "\n",
              "    [theme=dark] .colab-df-convert:hover {\n",
              "      background-color: #434B5C;\n",
              "      box-shadow: 0px 1px 3px 1px rgba(0, 0, 0, 0.15);\n",
              "      filter: drop-shadow(0px 1px 2px rgba(0, 0, 0, 0.3));\n",
              "      fill: #FFFFFF;\n",
              "    }\n",
              "  </style>\n",
              "\n",
              "      <script>\n",
              "        const buttonEl =\n",
              "          document.querySelector('#df-9d28c360-64e9-4950-bc7d-7e875a7e2ffc button.colab-df-convert');\n",
              "        buttonEl.style.display =\n",
              "          google.colab.kernel.accessAllowed ? 'block' : 'none';\n",
              "\n",
              "        async function convertToInteractive(key) {\n",
              "          const element = document.querySelector('#df-9d28c360-64e9-4950-bc7d-7e875a7e2ffc');\n",
              "          const dataTable =\n",
              "            await google.colab.kernel.invokeFunction('convertToInteractive',\n",
              "                                                     [key], {});\n",
              "          if (!dataTable) return;\n",
              "\n",
              "          const docLinkHtml = 'Like what you see? Visit the ' +\n",
              "            '<a target=\"_blank\" href=https://colab.research.google.com/notebooks/data_table.ipynb>data table notebook</a>'\n",
              "            + ' to learn more about interactive tables.';\n",
              "          element.innerHTML = '';\n",
              "          dataTable['output_type'] = 'display_data';\n",
              "          await google.colab.output.renderOutput(dataTable, element);\n",
              "          const docLink = document.createElement('div');\n",
              "          docLink.innerHTML = docLinkHtml;\n",
              "          element.appendChild(docLink);\n",
              "        }\n",
              "      </script>\n",
              "    </div>\n",
              "  </div>\n",
              "  "
            ]
          },
          "metadata": {},
          "execution_count": 30
        }
      ]
    },
    {
      "cell_type": "markdown",
      "source": [
        "## データの準備：データセットの作成"
      ],
      "metadata": {
        "id": "cgQ8eufrxVdo"
      }
    },
    {
      "cell_type": "code",
      "source": [
        "## データセットの結合\n",
        "df = pd.merge(result, gender, left_index=True, right_index=True)\n",
        "df = pd.merge(df, std, left_index=True, right_index=True)\n",
        "df = pd.merge(df, db[\"weight_diff\"], left_index=True, right_index=True)\n",
        "df.head(10)"
      ],
      "metadata": {
        "colab": {
          "base_uri": "https://localhost:8080/"
        },
        "id": "CBuCROqmFsdW",
        "outputId": "2281d895-b2d1-431c-e285-d7aa711181df"
      },
      "execution_count": null,
      "outputs": [
        {
          "output_type": "execute_result",
          "data": {
            "text/plain": [
              "                rank  gender_gelding  gender_female  gender_male  age  \\\n",
              "entry_id                                                                \n",
              "20210601010101     0               0              1            0  0.0   \n",
              "20210601010102     0               0              0            1  0.0   \n",
              "20210601010103     1               0              0            1  0.0   \n",
              "20210601010104     0               0              0            1  0.0   \n",
              "20210601010105     0               0              1            0  0.0   \n",
              "20210601010106     0               0              0            1  0.0   \n",
              "20210601010107     0               0              1            0  0.0   \n",
              "20210601010108     0               0              0            1  0.0   \n",
              "20210601010109     0               1              0            0  0.0   \n",
              "20210601010110     1               0              0            1  0.0   \n",
              "\n",
              "                  burden    weight       tan  fuku_min  fuku_max  weight_diff  \n",
              "entry_id                                                                       \n",
              "20210601010101 -0.344729 -1.427638  0.085046 -0.028044 -0.025133        -14.0  \n",
              "20210601010102  0.268122  0.131326  0.127179  0.111209  0.113165          6.0  \n",
              "20210601010103  0.268122  1.080260 -0.612488 -0.585058 -0.582580         -4.0  \n",
              "20210601010104 -0.957580 -1.359857  0.193500  0.008059  0.011037          6.0  \n",
              "20210601010105 -0.344729 -0.139798 -0.677248 -0.657264 -0.663431          0.0  \n",
              "20210601010106  0.880974  0.538012 -0.394021 -0.430332 -0.429388          4.0  \n",
              "20210601010107 -1.570432 -0.614266  0.694414  1.034408  1.038697        -12.0  \n",
              "20210601010108  0.880974 -0.343141 -0.488430 -0.456120 -0.454920         -2.0  \n",
              "20210601010109  0.880974  0.944698 -0.578938 -0.528325 -0.525133         16.0  \n",
              "20210601010110  0.880974  0.334669 -0.704557 -0.667579 -0.684707          8.0  "
            ],
            "text/html": [
              "\n",
              "  <div id=\"df-de03c787-e8f6-452a-a2c2-95915091199f\">\n",
              "    <div class=\"colab-df-container\">\n",
              "      <div>\n",
              "<style scoped>\n",
              "    .dataframe tbody tr th:only-of-type {\n",
              "        vertical-align: middle;\n",
              "    }\n",
              "\n",
              "    .dataframe tbody tr th {\n",
              "        vertical-align: top;\n",
              "    }\n",
              "\n",
              "    .dataframe thead th {\n",
              "        text-align: right;\n",
              "    }\n",
              "</style>\n",
              "<table border=\"1\" class=\"dataframe\">\n",
              "  <thead>\n",
              "    <tr style=\"text-align: right;\">\n",
              "      <th></th>\n",
              "      <th>rank</th>\n",
              "      <th>gender_gelding</th>\n",
              "      <th>gender_female</th>\n",
              "      <th>gender_male</th>\n",
              "      <th>age</th>\n",
              "      <th>burden</th>\n",
              "      <th>weight</th>\n",
              "      <th>tan</th>\n",
              "      <th>fuku_min</th>\n",
              "      <th>fuku_max</th>\n",
              "      <th>weight_diff</th>\n",
              "    </tr>\n",
              "    <tr>\n",
              "      <th>entry_id</th>\n",
              "      <th></th>\n",
              "      <th></th>\n",
              "      <th></th>\n",
              "      <th></th>\n",
              "      <th></th>\n",
              "      <th></th>\n",
              "      <th></th>\n",
              "      <th></th>\n",
              "      <th></th>\n",
              "      <th></th>\n",
              "      <th></th>\n",
              "    </tr>\n",
              "  </thead>\n",
              "  <tbody>\n",
              "    <tr>\n",
              "      <th>20210601010101</th>\n",
              "      <td>0</td>\n",
              "      <td>0</td>\n",
              "      <td>1</td>\n",
              "      <td>0</td>\n",
              "      <td>0.0</td>\n",
              "      <td>-0.344729</td>\n",
              "      <td>-1.427638</td>\n",
              "      <td>0.085046</td>\n",
              "      <td>-0.028044</td>\n",
              "      <td>-0.025133</td>\n",
              "      <td>-14.0</td>\n",
              "    </tr>\n",
              "    <tr>\n",
              "      <th>20210601010102</th>\n",
              "      <td>0</td>\n",
              "      <td>0</td>\n",
              "      <td>0</td>\n",
              "      <td>1</td>\n",
              "      <td>0.0</td>\n",
              "      <td>0.268122</td>\n",
              "      <td>0.131326</td>\n",
              "      <td>0.127179</td>\n",
              "      <td>0.111209</td>\n",
              "      <td>0.113165</td>\n",
              "      <td>6.0</td>\n",
              "    </tr>\n",
              "    <tr>\n",
              "      <th>20210601010103</th>\n",
              "      <td>1</td>\n",
              "      <td>0</td>\n",
              "      <td>0</td>\n",
              "      <td>1</td>\n",
              "      <td>0.0</td>\n",
              "      <td>0.268122</td>\n",
              "      <td>1.080260</td>\n",
              "      <td>-0.612488</td>\n",
              "      <td>-0.585058</td>\n",
              "      <td>-0.582580</td>\n",
              "      <td>-4.0</td>\n",
              "    </tr>\n",
              "    <tr>\n",
              "      <th>20210601010104</th>\n",
              "      <td>0</td>\n",
              "      <td>0</td>\n",
              "      <td>0</td>\n",
              "      <td>1</td>\n",
              "      <td>0.0</td>\n",
              "      <td>-0.957580</td>\n",
              "      <td>-1.359857</td>\n",
              "      <td>0.193500</td>\n",
              "      <td>0.008059</td>\n",
              "      <td>0.011037</td>\n",
              "      <td>6.0</td>\n",
              "    </tr>\n",
              "    <tr>\n",
              "      <th>20210601010105</th>\n",
              "      <td>0</td>\n",
              "      <td>0</td>\n",
              "      <td>1</td>\n",
              "      <td>0</td>\n",
              "      <td>0.0</td>\n",
              "      <td>-0.344729</td>\n",
              "      <td>-0.139798</td>\n",
              "      <td>-0.677248</td>\n",
              "      <td>-0.657264</td>\n",
              "      <td>-0.663431</td>\n",
              "      <td>0.0</td>\n",
              "    </tr>\n",
              "    <tr>\n",
              "      <th>20210601010106</th>\n",
              "      <td>0</td>\n",
              "      <td>0</td>\n",
              "      <td>0</td>\n",
              "      <td>1</td>\n",
              "      <td>0.0</td>\n",
              "      <td>0.880974</td>\n",
              "      <td>0.538012</td>\n",
              "      <td>-0.394021</td>\n",
              "      <td>-0.430332</td>\n",
              "      <td>-0.429388</td>\n",
              "      <td>4.0</td>\n",
              "    </tr>\n",
              "    <tr>\n",
              "      <th>20210601010107</th>\n",
              "      <td>0</td>\n",
              "      <td>0</td>\n",
              "      <td>1</td>\n",
              "      <td>0</td>\n",
              "      <td>0.0</td>\n",
              "      <td>-1.570432</td>\n",
              "      <td>-0.614266</td>\n",
              "      <td>0.694414</td>\n",
              "      <td>1.034408</td>\n",
              "      <td>1.038697</td>\n",
              "      <td>-12.0</td>\n",
              "    </tr>\n",
              "    <tr>\n",
              "      <th>20210601010108</th>\n",
              "      <td>0</td>\n",
              "      <td>0</td>\n",
              "      <td>0</td>\n",
              "      <td>1</td>\n",
              "      <td>0.0</td>\n",
              "      <td>0.880974</td>\n",
              "      <td>-0.343141</td>\n",
              "      <td>-0.488430</td>\n",
              "      <td>-0.456120</td>\n",
              "      <td>-0.454920</td>\n",
              "      <td>-2.0</td>\n",
              "    </tr>\n",
              "    <tr>\n",
              "      <th>20210601010109</th>\n",
              "      <td>0</td>\n",
              "      <td>1</td>\n",
              "      <td>0</td>\n",
              "      <td>0</td>\n",
              "      <td>0.0</td>\n",
              "      <td>0.880974</td>\n",
              "      <td>0.944698</td>\n",
              "      <td>-0.578938</td>\n",
              "      <td>-0.528325</td>\n",
              "      <td>-0.525133</td>\n",
              "      <td>16.0</td>\n",
              "    </tr>\n",
              "    <tr>\n",
              "      <th>20210601010110</th>\n",
              "      <td>1</td>\n",
              "      <td>0</td>\n",
              "      <td>0</td>\n",
              "      <td>1</td>\n",
              "      <td>0.0</td>\n",
              "      <td>0.880974</td>\n",
              "      <td>0.334669</td>\n",
              "      <td>-0.704557</td>\n",
              "      <td>-0.667579</td>\n",
              "      <td>-0.684707</td>\n",
              "      <td>8.0</td>\n",
              "    </tr>\n",
              "  </tbody>\n",
              "</table>\n",
              "</div>\n",
              "      <button class=\"colab-df-convert\" onclick=\"convertToInteractive('df-de03c787-e8f6-452a-a2c2-95915091199f')\"\n",
              "              title=\"Convert this dataframe to an interactive table.\"\n",
              "              style=\"display:none;\">\n",
              "        \n",
              "  <svg xmlns=\"http://www.w3.org/2000/svg\" height=\"24px\"viewBox=\"0 0 24 24\"\n",
              "       width=\"24px\">\n",
              "    <path d=\"M0 0h24v24H0V0z\" fill=\"none\"/>\n",
              "    <path d=\"M18.56 5.44l.94 2.06.94-2.06 2.06-.94-2.06-.94-.94-2.06-.94 2.06-2.06.94zm-11 1L8.5 8.5l.94-2.06 2.06-.94-2.06-.94L8.5 2.5l-.94 2.06-2.06.94zm10 10l.94 2.06.94-2.06 2.06-.94-2.06-.94-.94-2.06-.94 2.06-2.06.94z\"/><path d=\"M17.41 7.96l-1.37-1.37c-.4-.4-.92-.59-1.43-.59-.52 0-1.04.2-1.43.59L10.3 9.45l-7.72 7.72c-.78.78-.78 2.05 0 2.83L4 21.41c.39.39.9.59 1.41.59.51 0 1.02-.2 1.41-.59l7.78-7.78 2.81-2.81c.8-.78.8-2.07 0-2.86zM5.41 20L4 18.59l7.72-7.72 1.47 1.35L5.41 20z\"/>\n",
              "  </svg>\n",
              "      </button>\n",
              "      \n",
              "  <style>\n",
              "    .colab-df-container {\n",
              "      display:flex;\n",
              "      flex-wrap:wrap;\n",
              "      gap: 12px;\n",
              "    }\n",
              "\n",
              "    .colab-df-convert {\n",
              "      background-color: #E8F0FE;\n",
              "      border: none;\n",
              "      border-radius: 50%;\n",
              "      cursor: pointer;\n",
              "      display: none;\n",
              "      fill: #1967D2;\n",
              "      height: 32px;\n",
              "      padding: 0 0 0 0;\n",
              "      width: 32px;\n",
              "    }\n",
              "\n",
              "    .colab-df-convert:hover {\n",
              "      background-color: #E2EBFA;\n",
              "      box-shadow: 0px 1px 2px rgba(60, 64, 67, 0.3), 0px 1px 3px 1px rgba(60, 64, 67, 0.15);\n",
              "      fill: #174EA6;\n",
              "    }\n",
              "\n",
              "    [theme=dark] .colab-df-convert {\n",
              "      background-color: #3B4455;\n",
              "      fill: #D2E3FC;\n",
              "    }\n",
              "\n",
              "    [theme=dark] .colab-df-convert:hover {\n",
              "      background-color: #434B5C;\n",
              "      box-shadow: 0px 1px 3px 1px rgba(0, 0, 0, 0.15);\n",
              "      filter: drop-shadow(0px 1px 2px rgba(0, 0, 0, 0.3));\n",
              "      fill: #FFFFFF;\n",
              "    }\n",
              "  </style>\n",
              "\n",
              "      <script>\n",
              "        const buttonEl =\n",
              "          document.querySelector('#df-de03c787-e8f6-452a-a2c2-95915091199f button.colab-df-convert');\n",
              "        buttonEl.style.display =\n",
              "          google.colab.kernel.accessAllowed ? 'block' : 'none';\n",
              "\n",
              "        async function convertToInteractive(key) {\n",
              "          const element = document.querySelector('#df-de03c787-e8f6-452a-a2c2-95915091199f');\n",
              "          const dataTable =\n",
              "            await google.colab.kernel.invokeFunction('convertToInteractive',\n",
              "                                                     [key], {});\n",
              "          if (!dataTable) return;\n",
              "\n",
              "          const docLinkHtml = 'Like what you see? Visit the ' +\n",
              "            '<a target=\"_blank\" href=https://colab.research.google.com/notebooks/data_table.ipynb>data table notebook</a>'\n",
              "            + ' to learn more about interactive tables.';\n",
              "          element.innerHTML = '';\n",
              "          dataTable['output_type'] = 'display_data';\n",
              "          await google.colab.output.renderOutput(dataTable, element);\n",
              "          const docLink = document.createElement('div');\n",
              "          docLink.innerHTML = docLinkHtml;\n",
              "          element.appendChild(docLink);\n",
              "        }\n",
              "      </script>\n",
              "    </div>\n",
              "  </div>\n",
              "  "
            ]
          },
          "metadata": {},
          "execution_count": 31
        }
      ]
    },
    {
      "cell_type": "code",
      "source": [
        "df.describe().apply(lambda s: s.apply('{0:.5f}'.format))"
      ],
      "metadata": {
        "colab": {
          "base_uri": "https://localhost:8080/"
        },
        "id": "t50Hs2cQz7Tr",
        "outputId": "e9b4506b-8152-4e1f-a3a8-a973f6984f66"
      },
      "execution_count": null,
      "outputs": [
        {
          "output_type": "execute_result",
          "data": {
            "text/plain": [
              "              rank gender_gelding gender_female  gender_male          age  \\\n",
              "count  47476.00000    47476.00000   47476.00000  47476.00000  47476.00000   \n",
              "mean       0.21855        0.05556       0.41238      0.53206      0.00000   \n",
              "std        0.41327        0.22908       0.49227      0.49898      0.68219   \n",
              "min        0.00000        0.00000       0.00000      0.00000     -2.42838   \n",
              "25%        0.00000        0.00000       0.00000      0.00000     -0.28569   \n",
              "50%        0.00000        0.00000       0.00000      1.00000      0.00000   \n",
              "75%        0.00000        0.00000       1.00000      1.00000      0.00000   \n",
              "max        1.00000        1.00000       1.00000      1.00000      3.88057   \n",
              "\n",
              "            burden       weight          tan     fuku_min     fuku_max  \\\n",
              "count  47476.00000  47476.00000  47476.00000  47476.00000  47476.00000   \n",
              "mean       0.00000      0.00000      0.00000     -0.00000     -0.00000   \n",
              "std        0.94401      0.96293      0.96293      0.96293      0.96293   \n",
              "min       -4.00694     -3.71568     -1.39677     -1.35024     -1.39681   \n",
              "25%       -0.51903     -0.69542     -0.65867     -0.63574     -0.63673   \n",
              "50%        0.29210     -0.01205     -0.41250     -0.40518     -0.40308   \n",
              "75%        0.64161      0.67806      0.35295      0.27959      0.28720   \n",
              "max        4.00694      3.08449      3.75425      3.86215      3.85783   \n",
              "\n",
              "       weight_diff  \n",
              "count  47476.00000  \n",
              "mean       0.39256  \n",
              "std        6.33797  \n",
              "min      -42.00000  \n",
              "25%       -4.00000  \n",
              "50%        0.00000  \n",
              "75%        4.00000  \n",
              "max       66.00000  "
            ],
            "text/html": [
              "\n",
              "  <div id=\"df-d90d8b4c-1265-47a8-bf69-ffb43f1e0dd1\">\n",
              "    <div class=\"colab-df-container\">\n",
              "      <div>\n",
              "<style scoped>\n",
              "    .dataframe tbody tr th:only-of-type {\n",
              "        vertical-align: middle;\n",
              "    }\n",
              "\n",
              "    .dataframe tbody tr th {\n",
              "        vertical-align: top;\n",
              "    }\n",
              "\n",
              "    .dataframe thead th {\n",
              "        text-align: right;\n",
              "    }\n",
              "</style>\n",
              "<table border=\"1\" class=\"dataframe\">\n",
              "  <thead>\n",
              "    <tr style=\"text-align: right;\">\n",
              "      <th></th>\n",
              "      <th>rank</th>\n",
              "      <th>gender_gelding</th>\n",
              "      <th>gender_female</th>\n",
              "      <th>gender_male</th>\n",
              "      <th>age</th>\n",
              "      <th>burden</th>\n",
              "      <th>weight</th>\n",
              "      <th>tan</th>\n",
              "      <th>fuku_min</th>\n",
              "      <th>fuku_max</th>\n",
              "      <th>weight_diff</th>\n",
              "    </tr>\n",
              "  </thead>\n",
              "  <tbody>\n",
              "    <tr>\n",
              "      <th>count</th>\n",
              "      <td>47476.00000</td>\n",
              "      <td>47476.00000</td>\n",
              "      <td>47476.00000</td>\n",
              "      <td>47476.00000</td>\n",
              "      <td>47476.00000</td>\n",
              "      <td>47476.00000</td>\n",
              "      <td>47476.00000</td>\n",
              "      <td>47476.00000</td>\n",
              "      <td>47476.00000</td>\n",
              "      <td>47476.00000</td>\n",
              "      <td>47476.00000</td>\n",
              "    </tr>\n",
              "    <tr>\n",
              "      <th>mean</th>\n",
              "      <td>0.21855</td>\n",
              "      <td>0.05556</td>\n",
              "      <td>0.41238</td>\n",
              "      <td>0.53206</td>\n",
              "      <td>0.00000</td>\n",
              "      <td>0.00000</td>\n",
              "      <td>0.00000</td>\n",
              "      <td>0.00000</td>\n",
              "      <td>-0.00000</td>\n",
              "      <td>-0.00000</td>\n",
              "      <td>0.39256</td>\n",
              "    </tr>\n",
              "    <tr>\n",
              "      <th>std</th>\n",
              "      <td>0.41327</td>\n",
              "      <td>0.22908</td>\n",
              "      <td>0.49227</td>\n",
              "      <td>0.49898</td>\n",
              "      <td>0.68219</td>\n",
              "      <td>0.94401</td>\n",
              "      <td>0.96293</td>\n",
              "      <td>0.96293</td>\n",
              "      <td>0.96293</td>\n",
              "      <td>0.96293</td>\n",
              "      <td>6.33797</td>\n",
              "    </tr>\n",
              "    <tr>\n",
              "      <th>min</th>\n",
              "      <td>0.00000</td>\n",
              "      <td>0.00000</td>\n",
              "      <td>0.00000</td>\n",
              "      <td>0.00000</td>\n",
              "      <td>-2.42838</td>\n",
              "      <td>-4.00694</td>\n",
              "      <td>-3.71568</td>\n",
              "      <td>-1.39677</td>\n",
              "      <td>-1.35024</td>\n",
              "      <td>-1.39681</td>\n",
              "      <td>-42.00000</td>\n",
              "    </tr>\n",
              "    <tr>\n",
              "      <th>25%</th>\n",
              "      <td>0.00000</td>\n",
              "      <td>0.00000</td>\n",
              "      <td>0.00000</td>\n",
              "      <td>0.00000</td>\n",
              "      <td>-0.28569</td>\n",
              "      <td>-0.51903</td>\n",
              "      <td>-0.69542</td>\n",
              "      <td>-0.65867</td>\n",
              "      <td>-0.63574</td>\n",
              "      <td>-0.63673</td>\n",
              "      <td>-4.00000</td>\n",
              "    </tr>\n",
              "    <tr>\n",
              "      <th>50%</th>\n",
              "      <td>0.00000</td>\n",
              "      <td>0.00000</td>\n",
              "      <td>0.00000</td>\n",
              "      <td>1.00000</td>\n",
              "      <td>0.00000</td>\n",
              "      <td>0.29210</td>\n",
              "      <td>-0.01205</td>\n",
              "      <td>-0.41250</td>\n",
              "      <td>-0.40518</td>\n",
              "      <td>-0.40308</td>\n",
              "      <td>0.00000</td>\n",
              "    </tr>\n",
              "    <tr>\n",
              "      <th>75%</th>\n",
              "      <td>0.00000</td>\n",
              "      <td>0.00000</td>\n",
              "      <td>1.00000</td>\n",
              "      <td>1.00000</td>\n",
              "      <td>0.00000</td>\n",
              "      <td>0.64161</td>\n",
              "      <td>0.67806</td>\n",
              "      <td>0.35295</td>\n",
              "      <td>0.27959</td>\n",
              "      <td>0.28720</td>\n",
              "      <td>4.00000</td>\n",
              "    </tr>\n",
              "    <tr>\n",
              "      <th>max</th>\n",
              "      <td>1.00000</td>\n",
              "      <td>1.00000</td>\n",
              "      <td>1.00000</td>\n",
              "      <td>1.00000</td>\n",
              "      <td>3.88057</td>\n",
              "      <td>4.00694</td>\n",
              "      <td>3.08449</td>\n",
              "      <td>3.75425</td>\n",
              "      <td>3.86215</td>\n",
              "      <td>3.85783</td>\n",
              "      <td>66.00000</td>\n",
              "    </tr>\n",
              "  </tbody>\n",
              "</table>\n",
              "</div>\n",
              "      <button class=\"colab-df-convert\" onclick=\"convertToInteractive('df-d90d8b4c-1265-47a8-bf69-ffb43f1e0dd1')\"\n",
              "              title=\"Convert this dataframe to an interactive table.\"\n",
              "              style=\"display:none;\">\n",
              "        \n",
              "  <svg xmlns=\"http://www.w3.org/2000/svg\" height=\"24px\"viewBox=\"0 0 24 24\"\n",
              "       width=\"24px\">\n",
              "    <path d=\"M0 0h24v24H0V0z\" fill=\"none\"/>\n",
              "    <path d=\"M18.56 5.44l.94 2.06.94-2.06 2.06-.94-2.06-.94-.94-2.06-.94 2.06-2.06.94zm-11 1L8.5 8.5l.94-2.06 2.06-.94-2.06-.94L8.5 2.5l-.94 2.06-2.06.94zm10 10l.94 2.06.94-2.06 2.06-.94-2.06-.94-.94-2.06-.94 2.06-2.06.94z\"/><path d=\"M17.41 7.96l-1.37-1.37c-.4-.4-.92-.59-1.43-.59-.52 0-1.04.2-1.43.59L10.3 9.45l-7.72 7.72c-.78.78-.78 2.05 0 2.83L4 21.41c.39.39.9.59 1.41.59.51 0 1.02-.2 1.41-.59l7.78-7.78 2.81-2.81c.8-.78.8-2.07 0-2.86zM5.41 20L4 18.59l7.72-7.72 1.47 1.35L5.41 20z\"/>\n",
              "  </svg>\n",
              "      </button>\n",
              "      \n",
              "  <style>\n",
              "    .colab-df-container {\n",
              "      display:flex;\n",
              "      flex-wrap:wrap;\n",
              "      gap: 12px;\n",
              "    }\n",
              "\n",
              "    .colab-df-convert {\n",
              "      background-color: #E8F0FE;\n",
              "      border: none;\n",
              "      border-radius: 50%;\n",
              "      cursor: pointer;\n",
              "      display: none;\n",
              "      fill: #1967D2;\n",
              "      height: 32px;\n",
              "      padding: 0 0 0 0;\n",
              "      width: 32px;\n",
              "    }\n",
              "\n",
              "    .colab-df-convert:hover {\n",
              "      background-color: #E2EBFA;\n",
              "      box-shadow: 0px 1px 2px rgba(60, 64, 67, 0.3), 0px 1px 3px 1px rgba(60, 64, 67, 0.15);\n",
              "      fill: #174EA6;\n",
              "    }\n",
              "\n",
              "    [theme=dark] .colab-df-convert {\n",
              "      background-color: #3B4455;\n",
              "      fill: #D2E3FC;\n",
              "    }\n",
              "\n",
              "    [theme=dark] .colab-df-convert:hover {\n",
              "      background-color: #434B5C;\n",
              "      box-shadow: 0px 1px 3px 1px rgba(0, 0, 0, 0.15);\n",
              "      filter: drop-shadow(0px 1px 2px rgba(0, 0, 0, 0.3));\n",
              "      fill: #FFFFFF;\n",
              "    }\n",
              "  </style>\n",
              "\n",
              "      <script>\n",
              "        const buttonEl =\n",
              "          document.querySelector('#df-d90d8b4c-1265-47a8-bf69-ffb43f1e0dd1 button.colab-df-convert');\n",
              "        buttonEl.style.display =\n",
              "          google.colab.kernel.accessAllowed ? 'block' : 'none';\n",
              "\n",
              "        async function convertToInteractive(key) {\n",
              "          const element = document.querySelector('#df-d90d8b4c-1265-47a8-bf69-ffb43f1e0dd1');\n",
              "          const dataTable =\n",
              "            await google.colab.kernel.invokeFunction('convertToInteractive',\n",
              "                                                     [key], {});\n",
              "          if (!dataTable) return;\n",
              "\n",
              "          const docLinkHtml = 'Like what you see? Visit the ' +\n",
              "            '<a target=\"_blank\" href=https://colab.research.google.com/notebooks/data_table.ipynb>data table notebook</a>'\n",
              "            + ' to learn more about interactive tables.';\n",
              "          element.innerHTML = '';\n",
              "          dataTable['output_type'] = 'display_data';\n",
              "          await google.colab.output.renderOutput(dataTable, element);\n",
              "          const docLink = document.createElement('div');\n",
              "          docLink.innerHTML = docLinkHtml;\n",
              "          element.appendChild(docLink);\n",
              "        }\n",
              "      </script>\n",
              "    </div>\n",
              "  </div>\n",
              "  "
            ]
          },
          "metadata": {},
          "execution_count": 32
        }
      ]
    },
    {
      "cell_type": "markdown",
      "source": [
        "## モデルの作成と評価（１）\n",
        "ロジスティック回帰、未チューニング"
      ],
      "metadata": {
        "id": "jLY9Ze-MxlQ_"
      }
    },
    {
      "cell_type": "code",
      "source": [
        "# ライブラリのインポート\n",
        "from sklearn.model_selection import train_test_split\n",
        "\n",
        "# 学習用と検証用に分割\n",
        "X = df.drop(\"rank\", axis=1)\n",
        "y = df[\"rank\"]\n",
        "X_train, X_test, y_train, y_test = train_test_split(X, y, test_size = 0.3, random_state = 42)"
      ],
      "metadata": {
        "id": "HOpdH7AIcoiV"
      },
      "execution_count": null,
      "outputs": []
    },
    {
      "cell_type": "code",
      "source": [
        "# ライブラリのインポート\n",
        "from sklearn.linear_model import LogisticRegression\n",
        "\n",
        "# モデル構築\n",
        "model = LogisticRegression(max_iter=1500)\n",
        "model.fit(X_train, y_train)"
      ],
      "metadata": {
        "colab": {
          "base_uri": "https://localhost:8080/"
        },
        "id": "9gjNxdUAyy4b",
        "outputId": "2616711b-87cc-4ff9-9a70-865db483a5a3"
      },
      "execution_count": null,
      "outputs": [
        {
          "output_type": "execute_result",
          "data": {
            "text/plain": [
              "LogisticRegression(max_iter=1500)"
            ]
          },
          "metadata": {},
          "execution_count": 49
        }
      ]
    },
    {
      "cell_type": "code",
      "source": [
        "# ライブラリのインポート\n",
        "from sklearn.metrics import precision_score, confusion_matrix\n",
        "\n",
        "# 予測値算出\n",
        "y_pred = model.predict(X_test)\n",
        "\n",
        "# スコアの計算\n",
        "score = precision_score(y_test,y_pred)\n",
        "\n",
        "# 混合行列\n",
        "tn, fp, fn, tp = confusion_matrix(y_test, y_pred).ravel()\n",
        "print({\"モデル\": \"ロジスティクス回帰\", \"精度\": score, \"TN\": tn, \"FP\": fp, \"FN\": fn, \"TP\": tp})"
      ],
      "metadata": {
        "colab": {
          "base_uri": "https://localhost:8080/"
        },
        "id": "q-YFxeoBzr-9",
        "outputId": "7296cb3f-cfd2-4001-8153-4b1150b3e80c"
      },
      "execution_count": null,
      "outputs": [
        {
          "output_type": "stream",
          "name": "stdout",
          "text": [
            "{'モデル': 'ロジスティクス回帰', '精度': 0.6559766763848397, 'TN': 10988, 'FP': 118, 'FN': 2912, 'TP': 225}\n"
          ]
        }
      ]
    },
    {
      "cell_type": "code",
      "source": [
        "## ライブラリのインポート\n",
        "import numpy as np\n",
        "\n",
        "## 予測結果と元データを結合\n",
        "pred = pd.DataFrame(y_pred, index=y_test.index, columns=[\"predict\"])\n",
        "pred = pd.merge(db, pred, left_index=True, right_index=True, sort=True)\n",
        "## 掛け金と払戻金を付与\n",
        "pred[\"bet\"] = pred[\"predict\"].mask(pred[\"predict\"] == 1, 5000 / pred[\"fuku_min\"]).round(-2)\n",
        "pred[\"return\"] = np.where(pred[\"rank\"] <= 3, pred[\"bet\"] * pred[\"fuku_min\"], 0)\n",
        "bet = pred[\"bet\"].sum()\n",
        "rtn = pred[\"return\"].sum()\n",
        "\n",
        "print({\"モデル\": \"ロジスティクス回帰\", \"掛け金\": bet, \"払戻金\": rtn, \"収支\": rtn - bet, \"払戻率\": '{:.2%}'.format((rtn/bet))})"
      ],
      "metadata": {
        "colab": {
          "base_uri": "https://localhost:8080/"
        },
        "id": "Fn2T7vbNOKyY",
        "outputId": "f1148a37-4423-48bf-b5dc-67c408297a11"
      },
      "execution_count": null,
      "outputs": [
        {
          "output_type": "stream",
          "name": "stdout",
          "text": [
            "{'モデル': 'ロジスティクス回帰', '掛け金': 1401100.0, '払戻金': 1116720.0, '収支': -284380.0, '払戻率': '79.70%'}\n"
          ]
        }
      ]
    },
    {
      "cell_type": "markdown",
      "source": [
        "## モデルの作成と評価（２）\n",
        "ロジスティック回帰、アンダーサンプリング"
      ],
      "metadata": {
        "id": "0crRE-uQ3VSG"
      }
    },
    {
      "cell_type": "code",
      "source": [
        "# ライブラリのインポート\n",
        "from imblearn.under_sampling import RandomUnderSampler\n",
        "from sklearn.model_selection import train_test_split\n",
        "\n",
        "# アンダーサンプリング\n",
        "rs = RandomUnderSampler(random_state=42)\n",
        "X, y = rs.fit_resample(df.drop(\"rank\", axis=1), df[\"rank\"])\n",
        "# インデックス付与\n",
        "X.index = df.index[rs.sample_indices_]\n",
        "y.index = df.index[rs.sample_indices_]\n",
        "\n",
        "# 学習用と検証用に分割\n",
        "X_train, X_test, y_train, y_test = train_test_split(X, y, test_size = 0.3, random_state = 42)\n",
        "# y.value_counts()"
      ],
      "metadata": {
        "id": "VE_nyUUw1A1r"
      },
      "execution_count": null,
      "outputs": []
    },
    {
      "cell_type": "code",
      "source": [
        "# ライブラリのインポート\n",
        "from sklearn.linear_model import LogisticRegression\n",
        "\n",
        "# モデル構築\n",
        "model = LogisticRegression(max_iter=1500)\n",
        "model.fit(X_train, y_train)"
      ],
      "metadata": {
        "colab": {
          "base_uri": "https://localhost:8080/"
        },
        "id": "N_OTJtGr2lkr",
        "outputId": "8ab552aa-19c9-42e8-fe77-56002cd1cce0"
      },
      "execution_count": null,
      "outputs": [
        {
          "output_type": "execute_result",
          "data": {
            "text/plain": [
              "LogisticRegression(max_iter=1500)"
            ]
          },
          "metadata": {},
          "execution_count": 53
        }
      ]
    },
    {
      "cell_type": "code",
      "source": [
        "# ライブラリのインポート\n",
        "from sklearn.metrics import precision_score, confusion_matrix\n",
        "\n",
        "# 予測値算出\n",
        "y_pred = model.predict(X_test)\n",
        "\n",
        "# スコアの計算\n",
        "score = precision_score(y_test,y_pred)\n",
        "\n",
        "# 混合行列\n",
        "tn, fp, fn, tp = confusion_matrix(y_test, y_pred).ravel()\n",
        "print({\"モデル\": \"ロジスティクス回帰（アンダーサンプル）\", \"精度\": score, \"TN\": tn, \"FP\": fp, \"FN\": fn, \"TP\": tp})"
      ],
      "metadata": {
        "colab": {
          "base_uri": "https://localhost:8080/"
        },
        "id": "ltQyCrJ43yY_",
        "outputId": "bf01129d-1efa-4b28-a0c3-e4a82e0e9097"
      },
      "execution_count": null,
      "outputs": [
        {
          "output_type": "stream",
          "name": "stdout",
          "text": [
            "{'モデル': 'ロジスティクス回帰（アンダーサンプル）', '精度': 0.654833836858006, 'TN': 1771, 'FP': 1371, 'FN': 483, 'TP': 2601}\n"
          ]
        }
      ]
    },
    {
      "cell_type": "code",
      "source": [
        "## ライブラリのインポート\n",
        "import numpy as np\n",
        "\n",
        "## 予測結果と元データを結合\n",
        "pred = pd.DataFrame(y_pred, index=y_test.index, columns=[\"predict\"])\n",
        "pred = pd.merge(db, pred, left_index=True, right_index=True, sort=True)\n",
        "\n",
        "## 掛け金と払戻金を付与\n",
        "pred[\"bet\"] = pred[\"predict\"].mask(pred[\"predict\"] == 1, 5000 / pred[\"fuku_min\"]).round(-2)\n",
        "pred[\"return\"] = np.where(pred[\"rank\"] <= 3, pred[\"bet\"] * pred[\"fuku_min\"], 0)\n",
        "bet = pred[\"bet\"].sum()\n",
        "rtn = pred[\"return\"].sum()\n",
        "\n",
        "print({\"モデル\": \"ロジスティクス回帰（アンダーサンプル）\", \"掛け金\": bet, \"払戻金\": rtn, \"収支\": rtn - bet, \"払戻率\": '{:.2%}'.format((rtn/bet))})"
      ],
      "metadata": {
        "colab": {
          "base_uri": "https://localhost:8080/"
        },
        "id": "ALN45xnofHH8",
        "outputId": "4ec5aa18-9140-4dd0-af3d-38161d4b83d5"
      },
      "execution_count": null,
      "outputs": [
        {
          "output_type": "stream",
          "name": "stdout",
          "text": [
            "{'モデル': 'ロジスティクス回帰（アンダーサンプル）', '掛け金': 10981200.0, '払戻金': 12979180.0, '収支': 1997980.0, '払戻率': '118.19%'}\n"
          ]
        }
      ]
    },
    {
      "cell_type": "markdown",
      "source": [
        "## モデルの作成と評価（３）\n",
        "LightGBM、アンダーサンプリング"
      ],
      "metadata": {
        "id": "XYcgB3ag4pE0"
      }
    },
    {
      "cell_type": "code",
      "source": [
        "# ライブラリのインポート\n",
        "from imblearn.under_sampling import RandomUnderSampler\n",
        "from sklearn.model_selection import train_test_split\n",
        "\n",
        "# アンダーサンプリング\n",
        "rs = RandomUnderSampler(random_state=42)\n",
        "X, y = rs.fit_resample(df.drop(\"rank\", axis=1), df[\"rank\"])\n",
        "# インデックス付与\n",
        "X.index = df.index[rs.sample_indices_]\n",
        "y.index = df.index[rs.sample_indices_]\n",
        "\n",
        "# 学習用と検証用に分割\n",
        "X_train, X_test, y_train, y_test = train_test_split(X, y, test_size = 0.3, random_state = 42)"
      ],
      "metadata": {
        "id": "_F2EeW9e4gaT"
      },
      "execution_count": null,
      "outputs": []
    },
    {
      "cell_type": "code",
      "source": [
        "# ライブラリのインポート\n",
        "import lightgbm as lgb\n",
        "\n",
        "# モデル構築\n",
        "# max_depth=-1は無制限を意味する\n",
        "model = lgb.LGBMClassifier(n_estimators=100, learning_rate=0.1, max_depth=-1)\n",
        "model.fit(X, y)"
      ],
      "metadata": {
        "colab": {
          "base_uri": "https://localhost:8080/"
        },
        "id": "LyDqsmlD3yfB",
        "outputId": "e788e75d-ac54-4ef5-c5e1-7f486dec3566"
      },
      "execution_count": null,
      "outputs": [
        {
          "output_type": "execute_result",
          "data": {
            "text/plain": [
              "LGBMClassifier()"
            ]
          },
          "metadata": {},
          "execution_count": 57
        }
      ]
    },
    {
      "cell_type": "code",
      "source": [
        "# ライブラリのインポート\n",
        "from sklearn.metrics import precision_score, confusion_matrix\n",
        "\n",
        "# 予測値算出\n",
        "y_pred = model.predict(X_test)\n",
        "\n",
        "# スコアの計算\n",
        "score = precision_score(y_test,y_pred)\n",
        "\n",
        "# 混合行列\n",
        "tn, fp, fn, tp = confusion_matrix(y_test, y_pred).ravel()\n",
        "print({\"モデル\": \"LightGBM（アンダーサンプル）\", \"精度\": score, \"TN\": tn, \"FP\": fp, \"FN\": fn, \"TP\": tp})"
      ],
      "metadata": {
        "colab": {
          "base_uri": "https://localhost:8080/"
        },
        "id": "dujRlzvt43FZ",
        "outputId": "d774a222-8ec1-4da9-a3aa-5e1d900b8847"
      },
      "execution_count": null,
      "outputs": [
        {
          "output_type": "stream",
          "name": "stdout",
          "text": [
            "{'モデル': 'LightGBM（アンダーサンプル）', '精度': 0.719645494830133, 'TN': 2193, 'FP': 949, 'FN': 648, 'TP': 2436}\n"
          ]
        }
      ]
    },
    {
      "cell_type": "code",
      "source": [
        "## ライブラリのインポート\n",
        "import numpy as np\n",
        "\n",
        "## 予測結果と元データを結合\n",
        "pred = pd.DataFrame(y_pred, index=y_test.index, columns=[\"predict\"])\n",
        "pred = pd.merge(db, pred, left_index=True, right_index=True, sort=True)\n",
        "## 掛け金と払戻金を付与\n",
        "pred[\"bet\"] = pred[\"predict\"].mask(pred[\"predict\"] == 1, 5000 / pred[\"fuku_min\"]).round(-2)\n",
        "pred[\"return\"] = np.where(pred[\"rank\"] <= 3, pred[\"bet\"] * pred[\"fuku_min\"], 0)\n",
        "bet = pred[\"bet\"].sum()\n",
        "rtn = pred[\"return\"].sum()\n",
        "\n",
        "print({\"モデル\": \"LightGBM（アンダーサンプル）\", \"掛け金\": bet, \"払戻金\": rtn, \"収支\": rtn - bet, \"払戻率\": '{:.2%}'.format((rtn/bet))})"
      ],
      "metadata": {
        "id": "MfJS-W8L5QgH",
        "colab": {
          "base_uri": "https://localhost:8080/"
        },
        "outputId": "ab9e9a4c-2fb5-4055-cacf-47653420a990"
      },
      "execution_count": null,
      "outputs": [
        {
          "output_type": "stream",
          "name": "stdout",
          "text": [
            "{'モデル': 'LightGBM（アンダーサンプル）', '掛け金': 10097500.0, '払戻金': 12156600.0, '収支': 2059100.0, '払戻率': '120.39%'}\n"
          ]
        }
      ]
    },
    {
      "cell_type": "markdown",
      "source": [
        "# 実データ検証\n",
        "----"
      ],
      "metadata": {
        "id": "w_-93eqTvyRe"
      }
    },
    {
      "cell_type": "markdown",
      "source": [
        "## 実データ出力/データ加工"
      ],
      "metadata": {
        "id": "n-PpVRUlw4-M"
      }
    },
    {
      "cell_type": "code",
      "source": [
        "import pandas as pd\n",
        "\n",
        "# 2022年6月のデータ抽出\n",
        "sql = '''\n",
        "SELECT\n",
        "  t1.entry_id as entry_id,\n",
        "  t1.race_id as race_id,\n",
        "  t2.rank as rank,\n",
        "  t1.bracket as bracket,\n",
        "  t1.horse_number as horse_number,\n",
        "  t1.gender as gender,\n",
        "  t1.age as age,\n",
        "  t1.burden as burden,\n",
        "  t1.weight as weight,\n",
        "  t1.weight_diff as weight_diff,\n",
        "  t3.tan as tan,\n",
        "  t3.fuku_min as fuku_min,\n",
        "  t3.fuku_max as fuku_max\n",
        "FROM\n",
        "  entry t1\n",
        "  LEFT JOIN result t2 on (t1.entry_id = t2.result_id) \n",
        "  LEFT JOIN odds t3 on (t1.entry_id = t3.odds_id) \n",
        "  LEFT JOIN race t4 on (t1.race_id = t4.race_id)\n",
        "WHERE\n",
        "  t4.race_date like \"202206%\"\n",
        "'''\n",
        "\n",
        "db = pd.read_sql(sql, conn, index_col=\"entry_id\")\n",
        "## 順位（Rank）が空白値をNaNに変換して削除した上で数値型に変更\n",
        "db[db[\"rank\"] == \"\"] = None\n",
        "db = db.dropna(subset=[\"rank\"])\n",
        "db = db.astype({'rank': int})\n",
        "db.info()"
      ],
      "metadata": {
        "colab": {
          "base_uri": "https://localhost:8080/"
        },
        "id": "wn46ohTwv0EM",
        "outputId": "19dbe551-d879-4c58-bffc-aaf1c2a02f75"
      },
      "execution_count": null,
      "outputs": [
        {
          "output_type": "stream",
          "name": "stdout",
          "text": [
            "<class 'pandas.core.frame.DataFrame'>\n",
            "Index: 3520 entries, 20220503010101 to 20220903041216\n",
            "Data columns (total 12 columns):\n",
            " #   Column        Non-Null Count  Dtype  \n",
            "---  ------        --------------  -----  \n",
            " 0   race_id       3520 non-null   object \n",
            " 1   rank          3520 non-null   int64  \n",
            " 2   bracket       3520 non-null   object \n",
            " 3   horse_number  3520 non-null   object \n",
            " 4   gender        3520 non-null   object \n",
            " 5   age           3520 non-null   float64\n",
            " 6   burden        3520 non-null   float64\n",
            " 7   weight        3520 non-null   float64\n",
            " 8   weight_diff   3520 non-null   float64\n",
            " 9   tan           3520 non-null   float64\n",
            " 10  fuku_min      3520 non-null   float64\n",
            " 11  fuku_max      3520 non-null   float64\n",
            "dtypes: float64(7), int64(1), object(4)\n",
            "memory usage: 357.5+ KB\n"
          ]
        }
      ]
    },
    {
      "cell_type": "code",
      "source": [
        "## ダミー変数化\n",
        "gender = pd.get_dummies(db, columns=[\"gender\"])\n",
        "gender = gender[[\"gender_セ\", \"gender_牝\", \"gender_牡\"]]\n",
        "gender = gender.rename(columns={\"gender_セ\": \"gender_gelding\", \"gender_牝\": \"gender_female\", \"gender_牡\": \"gender_male\"})\n",
        "\n",
        "## 標準化変数の選択\n",
        "std = db[[\"race_id\", \"age\", \"burden\", \"weight\", \"tan\", \"fuku_min\", \"fuku_max\"]]\n",
        "## データの標準化\n",
        "standardization = lambda x: (x - x.mean()) / x.std()\n",
        "std = std.groupby(\"race_id\").transform(standardization)\n",
        "\n",
        "# 分散がゼロ（馬齢がレース内ですべて同じ）の場合はNaNになるため、ゼロ埋め処理\n",
        "std = std.fillna(0)\n",
        "\n",
        "## データセットの結合\n",
        "df = pd.merge(gender, std, left_index=True, right_index=True)\n",
        "df = pd.merge(df, db[\"weight_diff\"], left_index=True, right_index=True)\n",
        "df.describe().apply(lambda s: s.apply('{0:.5f}'.format))"
      ],
      "metadata": {
        "colab": {
          "base_uri": "https://localhost:8080/"
        },
        "id": "WTQ2JRf4wL52",
        "outputId": "ef8c0491-f30f-4e7b-c8f1-98211e5cd636"
      },
      "execution_count": null,
      "outputs": [
        {
          "output_type": "execute_result",
          "data": {
            "text/plain": [
              "      gender_gelding gender_female gender_male         age      burden  \\\n",
              "count     3520.00000    3520.00000  3520.00000  3520.00000  3520.00000   \n",
              "mean         0.05312       0.41108     0.53580     0.00000    -0.00000   \n",
              "std          0.22431       0.49210     0.49879     0.69033     0.94867   \n",
              "min          0.00000       0.00000     0.00000    -2.07020    -3.75000   \n",
              "25%          0.00000       0.00000     0.00000    -0.30780    -0.47754   \n",
              "50%          0.00000       0.00000     1.00000     0.00000     0.29509   \n",
              "75%          0.00000       1.00000     1.00000     0.00000     0.63057   \n",
              "max          1.00000       1.00000     1.00000     3.14106     3.17543   \n",
              "\n",
              "           weight         tan    fuku_min    fuku_max weight_diff  \n",
              "count  3520.00000  3520.00000  3520.00000  3520.00000  3520.00000  \n",
              "mean     -0.00000    -0.00000    -0.00000     0.00000     0.12273  \n",
              "std       0.96191     0.96191     0.96191     0.96191     5.89732  \n",
              "min      -3.70818    -1.65949    -1.33276    -1.50485   -30.00000  \n",
              "25%      -0.68679    -0.67154    -0.65214    -0.65445    -4.00000  \n",
              "50%      -0.00918    -0.41446    -0.40405    -0.39973     0.00000  \n",
              "75%       0.68801     0.39480     0.34902     0.34965     4.00000  \n",
              "max       2.76489     3.51614     3.54998     3.54761    34.00000  "
            ],
            "text/html": [
              "\n",
              "  <div id=\"df-d836ee4c-4f1b-4f02-afb0-4f8de9c6b7a1\">\n",
              "    <div class=\"colab-df-container\">\n",
              "      <div>\n",
              "<style scoped>\n",
              "    .dataframe tbody tr th:only-of-type {\n",
              "        vertical-align: middle;\n",
              "    }\n",
              "\n",
              "    .dataframe tbody tr th {\n",
              "        vertical-align: top;\n",
              "    }\n",
              "\n",
              "    .dataframe thead th {\n",
              "        text-align: right;\n",
              "    }\n",
              "</style>\n",
              "<table border=\"1\" class=\"dataframe\">\n",
              "  <thead>\n",
              "    <tr style=\"text-align: right;\">\n",
              "      <th></th>\n",
              "      <th>gender_gelding</th>\n",
              "      <th>gender_female</th>\n",
              "      <th>gender_male</th>\n",
              "      <th>age</th>\n",
              "      <th>burden</th>\n",
              "      <th>weight</th>\n",
              "      <th>tan</th>\n",
              "      <th>fuku_min</th>\n",
              "      <th>fuku_max</th>\n",
              "      <th>weight_diff</th>\n",
              "    </tr>\n",
              "  </thead>\n",
              "  <tbody>\n",
              "    <tr>\n",
              "      <th>count</th>\n",
              "      <td>3520.00000</td>\n",
              "      <td>3520.00000</td>\n",
              "      <td>3520.00000</td>\n",
              "      <td>3520.00000</td>\n",
              "      <td>3520.00000</td>\n",
              "      <td>3520.00000</td>\n",
              "      <td>3520.00000</td>\n",
              "      <td>3520.00000</td>\n",
              "      <td>3520.00000</td>\n",
              "      <td>3520.00000</td>\n",
              "    </tr>\n",
              "    <tr>\n",
              "      <th>mean</th>\n",
              "      <td>0.05312</td>\n",
              "      <td>0.41108</td>\n",
              "      <td>0.53580</td>\n",
              "      <td>0.00000</td>\n",
              "      <td>-0.00000</td>\n",
              "      <td>-0.00000</td>\n",
              "      <td>-0.00000</td>\n",
              "      <td>-0.00000</td>\n",
              "      <td>0.00000</td>\n",
              "      <td>0.12273</td>\n",
              "    </tr>\n",
              "    <tr>\n",
              "      <th>std</th>\n",
              "      <td>0.22431</td>\n",
              "      <td>0.49210</td>\n",
              "      <td>0.49879</td>\n",
              "      <td>0.69033</td>\n",
              "      <td>0.94867</td>\n",
              "      <td>0.96191</td>\n",
              "      <td>0.96191</td>\n",
              "      <td>0.96191</td>\n",
              "      <td>0.96191</td>\n",
              "      <td>5.89732</td>\n",
              "    </tr>\n",
              "    <tr>\n",
              "      <th>min</th>\n",
              "      <td>0.00000</td>\n",
              "      <td>0.00000</td>\n",
              "      <td>0.00000</td>\n",
              "      <td>-2.07020</td>\n",
              "      <td>-3.75000</td>\n",
              "      <td>-3.70818</td>\n",
              "      <td>-1.65949</td>\n",
              "      <td>-1.33276</td>\n",
              "      <td>-1.50485</td>\n",
              "      <td>-30.00000</td>\n",
              "    </tr>\n",
              "    <tr>\n",
              "      <th>25%</th>\n",
              "      <td>0.00000</td>\n",
              "      <td>0.00000</td>\n",
              "      <td>0.00000</td>\n",
              "      <td>-0.30780</td>\n",
              "      <td>-0.47754</td>\n",
              "      <td>-0.68679</td>\n",
              "      <td>-0.67154</td>\n",
              "      <td>-0.65214</td>\n",
              "      <td>-0.65445</td>\n",
              "      <td>-4.00000</td>\n",
              "    </tr>\n",
              "    <tr>\n",
              "      <th>50%</th>\n",
              "      <td>0.00000</td>\n",
              "      <td>0.00000</td>\n",
              "      <td>1.00000</td>\n",
              "      <td>0.00000</td>\n",
              "      <td>0.29509</td>\n",
              "      <td>-0.00918</td>\n",
              "      <td>-0.41446</td>\n",
              "      <td>-0.40405</td>\n",
              "      <td>-0.39973</td>\n",
              "      <td>0.00000</td>\n",
              "    </tr>\n",
              "    <tr>\n",
              "      <th>75%</th>\n",
              "      <td>0.00000</td>\n",
              "      <td>1.00000</td>\n",
              "      <td>1.00000</td>\n",
              "      <td>0.00000</td>\n",
              "      <td>0.63057</td>\n",
              "      <td>0.68801</td>\n",
              "      <td>0.39480</td>\n",
              "      <td>0.34902</td>\n",
              "      <td>0.34965</td>\n",
              "      <td>4.00000</td>\n",
              "    </tr>\n",
              "    <tr>\n",
              "      <th>max</th>\n",
              "      <td>1.00000</td>\n",
              "      <td>1.00000</td>\n",
              "      <td>1.00000</td>\n",
              "      <td>3.14106</td>\n",
              "      <td>3.17543</td>\n",
              "      <td>2.76489</td>\n",
              "      <td>3.51614</td>\n",
              "      <td>3.54998</td>\n",
              "      <td>3.54761</td>\n",
              "      <td>34.00000</td>\n",
              "    </tr>\n",
              "  </tbody>\n",
              "</table>\n",
              "</div>\n",
              "      <button class=\"colab-df-convert\" onclick=\"convertToInteractive('df-d836ee4c-4f1b-4f02-afb0-4f8de9c6b7a1')\"\n",
              "              title=\"Convert this dataframe to an interactive table.\"\n",
              "              style=\"display:none;\">\n",
              "        \n",
              "  <svg xmlns=\"http://www.w3.org/2000/svg\" height=\"24px\"viewBox=\"0 0 24 24\"\n",
              "       width=\"24px\">\n",
              "    <path d=\"M0 0h24v24H0V0z\" fill=\"none\"/>\n",
              "    <path d=\"M18.56 5.44l.94 2.06.94-2.06 2.06-.94-2.06-.94-.94-2.06-.94 2.06-2.06.94zm-11 1L8.5 8.5l.94-2.06 2.06-.94-2.06-.94L8.5 2.5l-.94 2.06-2.06.94zm10 10l.94 2.06.94-2.06 2.06-.94-2.06-.94-.94-2.06-.94 2.06-2.06.94z\"/><path d=\"M17.41 7.96l-1.37-1.37c-.4-.4-.92-.59-1.43-.59-.52 0-1.04.2-1.43.59L10.3 9.45l-7.72 7.72c-.78.78-.78 2.05 0 2.83L4 21.41c.39.39.9.59 1.41.59.51 0 1.02-.2 1.41-.59l7.78-7.78 2.81-2.81c.8-.78.8-2.07 0-2.86zM5.41 20L4 18.59l7.72-7.72 1.47 1.35L5.41 20z\"/>\n",
              "  </svg>\n",
              "      </button>\n",
              "      \n",
              "  <style>\n",
              "    .colab-df-container {\n",
              "      display:flex;\n",
              "      flex-wrap:wrap;\n",
              "      gap: 12px;\n",
              "    }\n",
              "\n",
              "    .colab-df-convert {\n",
              "      background-color: #E8F0FE;\n",
              "      border: none;\n",
              "      border-radius: 50%;\n",
              "      cursor: pointer;\n",
              "      display: none;\n",
              "      fill: #1967D2;\n",
              "      height: 32px;\n",
              "      padding: 0 0 0 0;\n",
              "      width: 32px;\n",
              "    }\n",
              "\n",
              "    .colab-df-convert:hover {\n",
              "      background-color: #E2EBFA;\n",
              "      box-shadow: 0px 1px 2px rgba(60, 64, 67, 0.3), 0px 1px 3px 1px rgba(60, 64, 67, 0.15);\n",
              "      fill: #174EA6;\n",
              "    }\n",
              "\n",
              "    [theme=dark] .colab-df-convert {\n",
              "      background-color: #3B4455;\n",
              "      fill: #D2E3FC;\n",
              "    }\n",
              "\n",
              "    [theme=dark] .colab-df-convert:hover {\n",
              "      background-color: #434B5C;\n",
              "      box-shadow: 0px 1px 3px 1px rgba(0, 0, 0, 0.15);\n",
              "      filter: drop-shadow(0px 1px 2px rgba(0, 0, 0, 0.3));\n",
              "      fill: #FFFFFF;\n",
              "    }\n",
              "  </style>\n",
              "\n",
              "      <script>\n",
              "        const buttonEl =\n",
              "          document.querySelector('#df-d836ee4c-4f1b-4f02-afb0-4f8de9c6b7a1 button.colab-df-convert');\n",
              "        buttonEl.style.display =\n",
              "          google.colab.kernel.accessAllowed ? 'block' : 'none';\n",
              "\n",
              "        async function convertToInteractive(key) {\n",
              "          const element = document.querySelector('#df-d836ee4c-4f1b-4f02-afb0-4f8de9c6b7a1');\n",
              "          const dataTable =\n",
              "            await google.colab.kernel.invokeFunction('convertToInteractive',\n",
              "                                                     [key], {});\n",
              "          if (!dataTable) return;\n",
              "\n",
              "          const docLinkHtml = 'Like what you see? Visit the ' +\n",
              "            '<a target=\"_blank\" href=https://colab.research.google.com/notebooks/data_table.ipynb>data table notebook</a>'\n",
              "            + ' to learn more about interactive tables.';\n",
              "          element.innerHTML = '';\n",
              "          dataTable['output_type'] = 'display_data';\n",
              "          await google.colab.output.renderOutput(dataTable, element);\n",
              "          const docLink = document.createElement('div');\n",
              "          docLink.innerHTML = docLinkHtml;\n",
              "          element.appendChild(docLink);\n",
              "        }\n",
              "      </script>\n",
              "    </div>\n",
              "  </div>\n",
              "  "
            ]
          },
          "metadata": {},
          "execution_count": 61
        }
      ]
    },
    {
      "cell_type": "markdown",
      "source": [
        "## 結果予測"
      ],
      "metadata": {
        "id": "jMtIvi-pxGI4"
      }
    },
    {
      "cell_type": "code",
      "source": [
        "# 予測値算出\n",
        "y_pred = model.predict(df)"
      ],
      "metadata": {
        "id": "xXG8KSgexEfq"
      },
      "execution_count": null,
      "outputs": []
    },
    {
      "cell_type": "markdown",
      "source": [
        "## 評価"
      ],
      "metadata": {
        "id": "s4U64D7NyNij"
      }
    },
    {
      "cell_type": "code",
      "source": [
        "## ライブラリのインポート\n",
        "import numpy as np\n",
        "\n",
        "## 予測結果と元データを結合\n",
        "pred = pd.DataFrame(y_pred, index=df.index, columns=[\"predict\"])\n",
        "pred = pd.merge(db, pred, left_index=True, right_index=True, sort=True)\n",
        "## 掛け金と払戻金を付与\n",
        "pred[\"bet\"] = pred[\"predict\"].mask(pred[\"predict\"] == 1, 5000 / pred[\"fuku_min\"]).round(-2)\n",
        "pred[\"return\"] = np.where(pred[\"rank\"] <= 3, pred[\"bet\"] * pred[\"fuku_min\"], 0)\n",
        "bet = pred[\"bet\"].sum()\n",
        "rtn = pred[\"return\"].sum()\n",
        "\n",
        "print({\"モデル\": \"LightGBM（アンダーサンプル）\", \"掛け金\": bet, \"払戻金\": rtn, \"収支\": rtn - bet, \"払戻率\": '{:.2%}'.format((rtn/bet))})"
      ],
      "metadata": {
        "colab": {
          "base_uri": "https://localhost:8080/"
        },
        "id": "15Qia94dyQcM",
        "outputId": "473cfd29-9d3e-453d-878d-31aabce4d48c"
      },
      "execution_count": null,
      "outputs": [
        {
          "output_type": "stream",
          "name": "stdout",
          "text": [
            "{'モデル': 'LightGBM（アンダーサンプル）', '掛け金': 4400300.0, '払戻金': 3037870.0, '収支': -1362430.0, '払戻率': '69.04%'}\n"
          ]
        }
      ]
    }
  ]
}