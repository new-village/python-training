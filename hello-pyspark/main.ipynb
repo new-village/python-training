{
 "cells": [
  {
   "cell_type": "code",
   "execution_count": 8,
   "metadata": {},
   "outputs": [
    {
     "name": "stdout",
     "output_type": "stream",
     "text": [
      "Hello Python\n",
      "Hello Jupyter\n",
      "Hello Spark\n"
     ]
    }
   ],
   "source": [
    "for str in [\"Python\", \"Jupyter\", \"Spark\"]:\n",
    "    print(f\"Hello {str}\")"
   ]
  },
  {
   "cell_type": "markdown",
   "metadata": {},
   "source": [
    "# Quickstart: DataFrame\n",
    "## [Grouping Data](https://spark.apache.org/docs/latest/api/python/getting_started/quickstart_df.html#Grouping-Data)   \n",
    "PySpark DataFrame also provides a way of handling grouped data by using the common approach, split-apply-combine strategy. It groups the data by a certain condition applies a function to each group and then combines them back to the DataFrame."
   ]
  },
  {
   "cell_type": "code",
   "execution_count": 11,
   "metadata": {},
   "outputs": [
    {
     "name": "stdout",
     "output_type": "stream",
     "text": [
      "+-----+------+---+---+\n",
      "|color| fruit| v1| v2|\n",
      "+-----+------+---+---+\n",
      "|  red|banana|  1| 10|\n",
      "| blue|banana|  2| 20|\n",
      "|  red|carrot|  3| 30|\n",
      "| blue| grape|  4| 40|\n",
      "|  red|carrot|  5| 50|\n",
      "|black|carrot|  6| 60|\n",
      "|  red|banana|  7| 70|\n",
      "|  red| grape|  8| 80|\n",
      "+-----+------+---+---+\n",
      "\n"
     ]
    }
   ],
   "source": [
    "from pyspark.sql import SparkSession\n",
    "\n",
    "spark = SparkSession.builder.getOrCreate()\n",
    "df = spark.createDataFrame([\n",
    "    ['red', 'banana', 1, 10], ['blue', 'banana', 2, 20], ['red', 'carrot', 3, 30],\n",
    "    ['blue', 'grape', 4, 40], ['red', 'carrot', 5, 50], ['black', 'carrot', 6, 60],\n",
    "    ['red', 'banana', 7, 70], ['red', 'grape', 8, 80]], schema=['color', 'fruit', 'v1', 'v2'])\n",
    "df.show()"
   ]
  },
  {
   "cell_type": "markdown",
   "metadata": {},
   "source": [
    "Grouping and then applying the `avg()` function to the resulting groups."
   ]
  },
  {
   "cell_type": "code",
   "execution_count": 9,
   "metadata": {},
   "outputs": [
    {
     "name": "stderr",
     "output_type": "stream",
     "text": [
      "[Stage 9:>                                                        (0 + 16) / 16]\r"
     ]
    },
    {
     "name": "stdout",
     "output_type": "stream",
     "text": [
      "+-----+-------+-------+\n",
      "|color|avg(v1)|avg(v2)|\n",
      "+-----+-------+-------+\n",
      "|  red|    4.8|   48.0|\n",
      "| blue|    3.0|   30.0|\n",
      "|black|    6.0|   60.0|\n",
      "+-----+-------+-------+\n",
      "\n"
     ]
    },
    {
     "name": "stderr",
     "output_type": "stream",
     "text": [
      "                                                                                \r"
     ]
    }
   ],
   "source": [
    "df.groupby('color').avg().show()"
   ]
  },
  {
   "cell_type": "markdown",
   "metadata": {},
   "source": [
    "You can also apply a Python native function against each group by using pandas API."
   ]
  },
  {
   "cell_type": "code",
   "execution_count": 10,
   "metadata": {},
   "outputs": [
    {
     "name": "stderr",
     "output_type": "stream",
     "text": [
      "[Stage 14:>                                                         (0 + 1) / 1]\r"
     ]
    },
    {
     "name": "stdout",
     "output_type": "stream",
     "text": [
      "+-----+------+---+---+\n",
      "|color| fruit| v1| v2|\n",
      "+-----+------+---+---+\n",
      "|black|carrot|  0| 60|\n",
      "| blue|banana| -1| 20|\n",
      "| blue| grape|  1| 40|\n",
      "|  red|banana| -3| 10|\n",
      "|  red|carrot| -1| 30|\n",
      "|  red|carrot|  0| 50|\n",
      "|  red|banana|  2| 70|\n",
      "|  red| grape|  3| 80|\n",
      "+-----+------+---+---+\n",
      "\n"
     ]
    },
    {
     "name": "stderr",
     "output_type": "stream",
     "text": [
      "                                                                                \r"
     ]
    }
   ],
   "source": [
    "def plus_mean(pandas_df):\n",
    "    return pandas_df.assign(v1=pandas_df.v1 - pandas_df.v1.mean())\n",
    "\n",
    "df.groupby('color').applyInPandas(plus_mean, schema=df.schema).show()"
   ]
  },
  {
   "cell_type": "markdown",
   "metadata": {},
   "source": [
    "## [Getting Data In/Out](https://spark.apache.org/docs/latest/api/python/getting_started/quickstart_df.html#Grouping-Data)  \n",
    "CSV is straightforward and easy to use. Parquet and ORC are efficient and compact file formats to read and write faster."
   ]
  },
  {
   "cell_type": "code",
   "execution_count": 79,
   "metadata": {},
   "outputs": [
    {
     "name": "stdout",
     "output_type": "stream",
     "text": [
      "+----------------------------------------------------------------+-------+----+----------------------------------------------------------------+------------+------------+---------+-----------+------------+-----------+------------+--------------------------------------------------------------------------------------------------------------------------------------------------------------------------------------------------------------------------------------------------------------------------------------------------------------+-------------------+----------+\n",
      "|hash                                                            |version|size|block_hash                                                      |block_number|virtual_size|lock_time|input_count|output_count|is_coinbase|output_value|outputs                                                                                                                                                                                                                                                                                                       |block_timestamp    |date      |\n",
      "+----------------------------------------------------------------+-------+----+----------------------------------------------------------------+------------+------------+---------+-----------+------------+-----------+------------+--------------------------------------------------------------------------------------------------------------------------------------------------------------------------------------------------------------------------------------------------------------------------------------------------------------+-------------------+----------+\n",
      "|4a5e1e4baab89f3a32518a88c31bc87f618f76673e2cc77ab2127b7afdeda33b|1      |204 |000000000019d6689c085ae165831e934ff763ae46a2a6c172b3f1b60a8ce26f|0           |204         |0        |0          |1           |true       |50.0        |[{0, 1, 04678afdb0fe5548271967f1a67130b7105cd6a828e03909a67962e0ea1f61deb649f6bc3f4cef38c4f35504e51ec112de5c384df7ba0b8d578a4c702b6bf11d5f OP_CHECKSIG, 4104678afdb0fe5548271967f1a67130b7105cd6a828e03909a67962e0ea1f61deb649f6bc3f4cef38c4f35504e51ec112de5c384df7ba0b8d578a4c702b6bf11d5fac, pubkey, 50.0}]|2009-01-04 03:15:05|2009-01-03|\n",
      "+----------------------------------------------------------------+-------+----+----------------------------------------------------------------+------------+------------+---------+-----------+------------+-----------+------------+--------------------------------------------------------------------------------------------------------------------------------------------------------------------------------------------------------------------------------------------------------------------------------------------------------------+-------------------+----------+\n",
      "\n"
     ]
    }
   ],
   "source": [
    "from pyspark.sql import SparkSession\n",
    "\n",
    "spark = SparkSession.builder.getOrCreate()\n",
    "df = spark.read.parquet('data/date=2009-01-03/part-00000-bdd84ab2-82e9-4a79-8212-7accd76815e8-c000.snappy.parquet')\n",
    "\n",
    "df.show(truncate=False)"
   ]
  },
  {
   "cell_type": "markdown",
   "metadata": {},
   "source": [
    "### Load Multiple Parquet Files."
   ]
  },
  {
   "cell_type": "code",
   "execution_count": 3,
   "metadata": {},
   "outputs": [
    {
     "name": "stdout",
     "output_type": "stream",
     "text": [
      "+----------------------------------------------------------------+----------------------------------------------------------------------------------------------------------------------------------------------------------------------------------------------------------------------------------------------------------------------------------------------------------------------------------------------------------------------------------------------------------------------------------------------------------------------------------------------------------------------------------------------------------------------------------------------------------------------------------------------------------------------------------------------------------------------------------------------------------------------------------------------------------------------------------------------------------------------------------------------------------------------------------------------------------------------------------------------------------------------------------------------------------------------------------------------------------------------------------------------------------------------------------------------------------------------------------------------------------------------------------------------------------------------------------------------------------------------------------------------------------------------------------------------------------------------------------------------------------------------------------------------------------------------------------------------------------------------------------------------------------------------------------------------------------------------------------------------------------------------------------------------------------------------------------------------------------------------------------------------------+---------------------------------------------------------------------------------------------------------------------------------------------------------------------------------------------------------------------------------------------------------------------------------------------------------------------------------------------------------------+\n",
      "|hash                                                            |inputs                                                                                                                                                                                                                                                                                                                                                                                                                                                                                                                                                                                                                                                                                                                                                                                                                                                                                                                                                                                                                                                                                                                                                                                                                                                                                                                                                                                                                                                                                                                                                                                                                                                                                                                                                                                                                                                                                              |outputs                                                                                                                                                                                                                                                                                                                                                        |\n",
      "+----------------------------------------------------------------+----------------------------------------------------------------------------------------------------------------------------------------------------------------------------------------------------------------------------------------------------------------------------------------------------------------------------------------------------------------------------------------------------------------------------------------------------------------------------------------------------------------------------------------------------------------------------------------------------------------------------------------------------------------------------------------------------------------------------------------------------------------------------------------------------------------------------------------------------------------------------------------------------------------------------------------------------------------------------------------------------------------------------------------------------------------------------------------------------------------------------------------------------------------------------------------------------------------------------------------------------------------------------------------------------------------------------------------------------------------------------------------------------------------------------------------------------------------------------------------------------------------------------------------------------------------------------------------------------------------------------------------------------------------------------------------------------------------------------------------------------------------------------------------------------------------------------------------------------------------------------------------------------+---------------------------------------------------------------------------------------------------------------------------------------------------------------------------------------------------------------------------------------------------------------------------------------------------------------------------------------------------------------+\n",
      "|4f297d691eb07c559705d00fefae7903f3adb4228a751c5515d4850deb790978|[{bc1qw5qqhhguelx4u3ly6u2thudeyw3a32k4mqhgay, 0, 1, , , 4294967294, 0, a22ec0a879a0ea06e2e6a3734074b408d66deefc55460793702d0c4c5f547272, [3044022033a7618275cc600edda20a6aeb51b1abf5191bc7a0ccf5aae20ff43b38716b2a02200455ee59d753f89e16856f6021b1d2edd894841c697cbb747f24e3922f8f1ef101, 028b5df6cc4f782f94e58ad91ad7d1426ebb6200926a32c81f8fefae5e0fa8e962], witness_v0_keyhash, 0.02113468}]                                                                                                                                                                                                                                                                                                                                                                                                                                                                                                                                                                                                                                                                                                                                                                                                                                                                                                                                                                                                                                                                                                                                                                                                                                                                                                                                                                                                                                                                                                     |[{bc1q3pvtk4vfg9rc3c4jp8wgl25ywmyrq4lna575tx, 0, 1, 0 8858bb5589414788e2b209dc8faa8476c83057f3, 00148858bb5589414788e2b209dc8faa8476c83057f3, witness_v0_keyhash, 0.0195711}, {3Hcu6jtGzFc6YoLCufAZxtys1PTe5qZYvZ, 1, 1, OP_HASH160 aebaa6f28e8e3e04a48e9176499e3880f5bc5577 OP_EQUAL, a914aebaa6f28e8e3e04a48e9176499e3880f5bc557787, scripthash, 0.00142062}]|\n",
      "|0e0503451c7b37d806d617470e73f479016eb094842387a572f9369b7b79dc05|[{bc1q7r8a88yf9ntshaav0u5tq2uqrx5g8yj8tegx4m, 0, 1, , , 4294967293, 0, f6db1ce9e29ac61d082d1329240202fbdf3a71cb4ee4cee3ac69194bc11e1071, [3044022017d3a2fa8e6960c027ed72a639d60968eb4cf6198d010edb4e01fc214264e9fd02205e1a94c5c5fa4f3b923a05a53fda3caee386d54bdceff4c7bd9453ff849116bf01, 034720a004123ee657d295d675ef9ce5340216ae2dad42329deaa9652bfbd41f2e], witness_v0_keyhash, 0.01452222}]                                                                                                                                                                                                                                                                                                                                                                                                                                                                                                                                                                                                                                                                                                                                                                                                                                                                                                                                                                                                                                                                                                                                                                                                                                                                                                                                                                                                                                                                                                     |[{bc1q9449hcuquccwaujw6tas6xtxsfsn9e7w6hmv84, 0, 1, 0 2d6a5be380e630eef24ed2fb0d1966826132e7ce, 00142d6a5be380e630eef24ed2fb0d1966826132e7ce, witness_v0_keyhash, 0.01435172}]                                                                                                                                                                                 |\n",
      "|100c011029401366296b91ebb666f8e97cbac0e9e5e93c0122a506198ce75c60|[{3Fc8Mm4xeCHkDnvJgxLZue4cJH7KnphzDp, 0, 1, 00144fe32957229c22d68577a289dadc3509fab2c44b, 1600144fe32957229c22d68577a289dadc3509fab2c44b, 4294967295, 0, 854f79d31a8e1ef90111320bd5b1a81f58693d898b80a57d96043af37ae37e4b, [30440220311be85de490ed5c97afe6e98410d1240417135df089ccf6af16c6f8bb0c40d3022005139ee96ed1488f4be0eb93e3fa8bfe0bb81e22ec13a092908405a81c81ce4b01, 031969f1030b88b8dcaca39eaec8446dea447cdcab461c5a65d9de615684c251db], scripthash, 0.002213}, {3MqVS51drh8qsXV2zYEgxW9LJPr9LLSTim, 1, 1, 0014050c205a96e7a205c20f248378a587163b23c7e0, 160014050c205a96e7a205c20f248378a587163b23c7e0, 4294967295, 1, 174e01cc8f0bf5a10589622b9577c824cb6fd056f1f31389e5d5097519d24679, [304402205d4e30183410075b7cc0b3bde680edf17ddddb89b2db5f7db0d0fca6f72c3ee502205d95db1a1618609df07e34b5b4db3265ca5fdcc1544bf7022f98108bdef6227b01, 03a4403e95ae3d973a5983076d4007026ff2787602ba6125f39a3334a98f723af3], scripthash, 0.002213}, {3KxBkMho8SyKkGCf6Uo5zHCSTgXWPBqemQ, 2, 1, 0014ce3d87c18abe2f03ff99e38441a037eae484a339, 160014ce3d87c18abe2f03ff99e38441a037eae484a339, 4294967295, 0, 5887bc1abc437b831b4b988d2354bad5d969ba8822b1c920f29117e05875cf88, [3045022100fd662dd3456131452a4cf2e6b540233c5d3d4737e58c1ab0b056b40789697eab022013fd04a8b82061eaf43544e0d3ea71f97a75b09ff49632c38bafde175d5830cb01, 03f02cc9e147396d65a660d27cc88387dd6d97394969e2a53f071d0e77e5102ee9], scripthash, 0.002213}, {3C2Dbf2zaXEuKZgYSaLbFsqo8XzuAz3aXk, 3, 1, 0014cbb2e634334ede00713b5a86b95d6943a2679a77, 160014cbb2e634334ede00713b5a86b95d6943a2679a77, 4294967295, 102, ba14cde53fd82186593ec9d24b77f3fc3cb2b71fbf5521114b0bd4e331c0194d, [3045022100c35ce0eebe8f454a60eeb6136255108c83f5185f1f86a618e91f3a93a8520f96022067ab008356edcb13b1ce7a2b744735b1a90cea609c9ae90a53a4fc7c2b54541801, 02ffaadbc5430c2037f7ad535faa4df7a83cdc57b931166d807a6741ae5f52dec8], scripthash, 0.00221299}]|[{bc1qrvp9w4rgtnt9a03aqcafqp29j3js22q9nudxjn, 0, 1, 0 1b025754685cd65ebe3d063a9005459465052805, 00141b025754685cd65ebe3d063a9005459465052805, witness_v0_keyhash, 0.002213}, {3Qwm9ENNQW8P4Zzwy3G4oJwc5Wdq17eU8o, 1, 1, OP_HASH160 ff14cb2f291eb32250415cf73613adae4982a2aa OP_EQUAL, a914ff14cb2f291eb32250415cf73613adae4982a2aa87, scripthash, 0.00641522}] |\n",
      "+----------------------------------------------------------------+----------------------------------------------------------------------------------------------------------------------------------------------------------------------------------------------------------------------------------------------------------------------------------------------------------------------------------------------------------------------------------------------------------------------------------------------------------------------------------------------------------------------------------------------------------------------------------------------------------------------------------------------------------------------------------------------------------------------------------------------------------------------------------------------------------------------------------------------------------------------------------------------------------------------------------------------------------------------------------------------------------------------------------------------------------------------------------------------------------------------------------------------------------------------------------------------------------------------------------------------------------------------------------------------------------------------------------------------------------------------------------------------------------------------------------------------------------------------------------------------------------------------------------------------------------------------------------------------------------------------------------------------------------------------------------------------------------------------------------------------------------------------------------------------------------------------------------------------------------------------------------------------------+---------------------------------------------------------------------------------------------------------------------------------------------------------------------------------------------------------------------------------------------------------------------------------------------------------------------------------------------------------------+\n",
      "only showing top 3 rows\n",
      "\n"
     ]
    }
   ],
   "source": [
    "from pyspark.sql import SparkSession\n",
    "\n",
    "spark = SparkSession.builder.getOrCreate()\n",
    "df = spark.read.parquet(\"data/*\")\n",
    "df.select(\"hash\", \"inputs\", \"outputs\").show(3, truncate=False)"
   ]
  },
  {
   "cell_type": "code",
   "execution_count": 4,
   "metadata": {},
   "outputs": [
    {
     "name": "stdout",
     "output_type": "stream",
     "text": [
      "root\n",
      " |-- hash: string (nullable = true)\n",
      " |-- inputs: array (nullable = true)\n",
      " |    |-- element: struct (containsNull = true)\n",
      " |    |    |-- address: string (nullable = true)\n",
      " |    |    |-- index: long (nullable = true)\n",
      " |    |    |-- required_signatures: long (nullable = true)\n",
      " |    |    |-- script_asm: string (nullable = true)\n",
      " |    |    |-- script_hex: string (nullable = true)\n",
      " |    |    |-- sequence: long (nullable = true)\n",
      " |    |    |-- spent_output_index: long (nullable = true)\n",
      " |    |    |-- spent_transaction_hash: string (nullable = true)\n",
      " |    |    |-- txinwitness: array (nullable = true)\n",
      " |    |    |    |-- element: string (containsNull = true)\n",
      " |    |    |-- type: string (nullable = true)\n",
      " |    |    |-- value: double (nullable = true)\n",
      " |-- outputs: array (nullable = true)\n",
      " |    |-- element: struct (containsNull = true)\n",
      " |    |    |-- address: string (nullable = true)\n",
      " |    |    |-- index: long (nullable = true)\n",
      " |    |    |-- required_signatures: long (nullable = true)\n",
      " |    |    |-- script_asm: string (nullable = true)\n",
      " |    |    |-- script_hex: string (nullable = true)\n",
      " |    |    |-- type: string (nullable = true)\n",
      " |    |    |-- value: double (nullable = true)\n",
      "\n"
     ]
    }
   ],
   "source": [
    "df.select(\"hash\", \"inputs\", \"outputs\").printSchema()"
   ]
  },
  {
   "cell_type": "code",
   "execution_count": 5,
   "metadata": {},
   "outputs": [
    {
     "name": "stderr",
     "output_type": "stream",
     "text": [
      "[Stage 10:=================================================>      (14 + 2) / 16]\r"
     ]
    },
    {
     "name": "stdout",
     "output_type": "stream",
     "text": [
      "+----------------------------------------------------------------+-------------------+----------+------------------------------------------+------------------------------------------+----------+\n",
      "|hash                                                            |block_timestamp    |date      |from_address                              |to_address                                |amount    |\n",
      "+----------------------------------------------------------------+-------------------+----------+------------------------------------------+------------------------------------------+----------+\n",
      "|100c011029401366296b91ebb666f8e97cbac0e9e5e93c0122a506198ce75c60|2024-02-09 03:42:39|2024-02-08|3Fc8Mm4xeCHkDnvJgxLZue4cJH7KnphzDp        |bc1qrvp9w4rgtnt9a03aqcafqp29j3js22q9nudxjn|0.00221300|\n",
      "|100c011029401366296b91ebb666f8e97cbac0e9e5e93c0122a506198ce75c60|2024-02-09 03:42:39|2024-02-08|3Fc8Mm4xeCHkDnvJgxLZue4cJH7KnphzDp        |3Qwm9ENNQW8P4Zzwy3G4oJwc5Wdq17eU8o        |0.00641522|\n",
      "|100c011029401366296b91ebb666f8e97cbac0e9e5e93c0122a506198ce75c60|2024-02-09 03:42:39|2024-02-08|3MqVS51drh8qsXV2zYEgxW9LJPr9LLSTim        |bc1qrvp9w4rgtnt9a03aqcafqp29j3js22q9nudxjn|0.00221300|\n",
      "|100c011029401366296b91ebb666f8e97cbac0e9e5e93c0122a506198ce75c60|2024-02-09 03:42:39|2024-02-08|3MqVS51drh8qsXV2zYEgxW9LJPr9LLSTim        |3Qwm9ENNQW8P4Zzwy3G4oJwc5Wdq17eU8o        |0.00641522|\n",
      "|100c011029401366296b91ebb666f8e97cbac0e9e5e93c0122a506198ce75c60|2024-02-09 03:42:39|2024-02-08|3KxBkMho8SyKkGCf6Uo5zHCSTgXWPBqemQ        |bc1qrvp9w4rgtnt9a03aqcafqp29j3js22q9nudxjn|0.00221300|\n",
      "|100c011029401366296b91ebb666f8e97cbac0e9e5e93c0122a506198ce75c60|2024-02-09 03:42:39|2024-02-08|3KxBkMho8SyKkGCf6Uo5zHCSTgXWPBqemQ        |3Qwm9ENNQW8P4Zzwy3G4oJwc5Wdq17eU8o        |0.00641522|\n",
      "|100c011029401366296b91ebb666f8e97cbac0e9e5e93c0122a506198ce75c60|2024-02-09 03:42:39|2024-02-08|3C2Dbf2zaXEuKZgYSaLbFsqo8XzuAz3aXk        |bc1qrvp9w4rgtnt9a03aqcafqp29j3js22q9nudxjn|0.00221300|\n",
      "|100c011029401366296b91ebb666f8e97cbac0e9e5e93c0122a506198ce75c60|2024-02-09 03:42:39|2024-02-08|3C2Dbf2zaXEuKZgYSaLbFsqo8XzuAz3aXk        |3Qwm9ENNQW8P4Zzwy3G4oJwc5Wdq17eU8o        |0.00641522|\n",
      "|4f297d691eb07c559705d00fefae7903f3adb4228a751c5515d4850deb790978|2024-02-08 16:20:56|2024-02-08|bc1qw5qqhhguelx4u3ly6u2thudeyw3a32k4mqhgay|bc1q3pvtk4vfg9rc3c4jp8wgl25ywmyrq4lna575tx|0.01957110|\n",
      "|4f297d691eb07c559705d00fefae7903f3adb4228a751c5515d4850deb790978|2024-02-08 16:20:56|2024-02-08|bc1qw5qqhhguelx4u3ly6u2thudeyw3a32k4mqhgay|3Hcu6jtGzFc6YoLCufAZxtys1PTe5qZYvZ        |0.00142062|\n",
      "+----------------------------------------------------------------+-------------------+----------+------------------------------------------+------------------------------------------+----------+\n",
      "\n"
     ]
    },
    {
     "name": "stderr",
     "output_type": "stream",
     "text": [
      "                                                                                \r"
     ]
    }
   ],
   "source": [
    "from pyspark.sql.functions import explode, col, format_number\n",
    "\n",
    "# Extract sender addresses from inputs\n",
    "inputs_df = df.select(\n",
    "    col(\"hash\"),\n",
    "    col(\"block_timestamp\"),\n",
    "    col(\"date\"),\n",
    "    explode(\"inputs\").alias(\"input\")\n",
    ").select(\n",
    "    \"hash\",\n",
    "    \"block_timestamp\",\n",
    "    \"date\",\n",
    "    col(\"input.address\").alias(\"from_address\")  # Changed 'addresses' to 'address'\n",
    ")\n",
    "\n",
    "# Extract recipient addresses and amounts from outputs\n",
    "outputs_df = df.select(\n",
    "    col(\"hash\"),\n",
    "    explode(\"outputs\").alias(\"output\")\n",
    ").select(\n",
    "    \"hash\",\n",
    "    col(\"output.address\").alias(\"to_address\"),  # Changed 'addresses' to 'address'\n",
    "    col(\"output.value\").alias(\"amount\")\n",
    ")\n",
    "\n",
    "# Join inputs_df and outputs_df based on transaction_hash\n",
    "tx_df = inputs_df.join(outputs_df, \"hash\")\n",
    "tx_df = tx_df.withColumn(\"amount\", format_number(\"amount\", 8))\n",
    "\n",
    "# Display the result\n",
    "l = [\"4f297d691eb07c559705d00fefae7903f3adb4228a751c5515d4850deb790978\", \"100c011029401366296b91ebb666f8e97cbac0e9e5e93c0122a506198ce75c60\"]\n",
    "tx_df.filter(tx_df.hash.isin(l)).show(truncate=False)"
   ]
  }
 ],
 "metadata": {
  "kernelspec": {
   "display_name": ".venv",
   "language": "python",
   "name": ".venv"
  },
  "language_info": {
   "codemirror_mode": {
    "name": "ipython",
    "version": 3
   },
   "file_extension": ".py",
   "mimetype": "text/x-python",
   "name": "python",
   "nbconvert_exporter": "python",
   "pygments_lexer": "ipython3",
   "version": "3.10.12"
  }
 },
 "nbformat": 4,
 "nbformat_minor": 2
}
